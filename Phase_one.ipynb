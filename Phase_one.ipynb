{
 "cells": [
  {
   "cell_type": "code",
   "execution_count": 1,
   "id": "6e6bb56a-1ad4-493e-92b5-b42dbc01d153",
   "metadata": {},
   "outputs": [],
   "source": [
    "import geopandas as gpd\n",
    "import pandas as pd\n",
    "import os\n",
    "import networkx as nx\n",
    "import osmnx as ox\n",
    "import matplotlib.pyplot as plt\n",
    "import json\n",
    "import geocoder\n",
    "import folium\n",
    "import fiona\n",
    "import geemap\n",
    "import xml\n",
    "from pyproj import CRS\n",
    "from shapely.geometry.polygon import LinearRing, Polygon, Point\n",
    "from shapely.geometry import MultiPolygon, Point, MultiPoint, MultiLineString\n",
    "%matplotlib inline"
   ]
  },
  {
   "cell_type": "code",
   "execution_count": null,
   "id": "6a58286c",
   "metadata": {
    "scrolled": true
   },
   "outputs": [],
   "source": []
  },
  {
   "cell_type": "code",
   "execution_count": 65,
   "id": "1c81152f",
   "metadata": {},
   "outputs": [
    {
     "data": {
      "text/plain": [
       "'D:\\\\ALL_data_science\\\\Freelancing\\\\UPwork\\\\Super Software'"
      ]
     },
     "execution_count": 65,
     "metadata": {},
     "output_type": "execute_result"
    }
   ],
   "source": [
    "%pwd"
   ]
  },
  {
   "cell_type": "markdown",
   "id": "1f3bf534-d19e-4efa-951b-67b48bd1af24",
   "metadata": {},
   "source": [
    "# using KML file"
   ]
  },
  {
   "cell_type": "code",
   "execution_count": 102,
   "id": "5735464c-3a68-4bf1-bc19-99070732ca6d",
   "metadata": {},
   "outputs": [],
   "source": [
    "# Enable KML driver\n",
    "gpd.io.file.fiona.drvsupport.supported_drivers['KML'] = 'rw'"
   ]
  },
  {
   "cell_type": "code",
   "execution_count": 4,
   "id": "200038e9-2758-43eb-a58a-f259f3d5f63a",
   "metadata": {},
   "outputs": [],
   "source": [
    "# Read file from KML\n",
    "#fp = \"Sample (4).kml\"\n",
    "df = gpd.read_file(\"Sample (4).kml\", driver='KML')"
   ]
  },
  {
   "cell_type": "code",
   "execution_count": 6,
   "id": "106cc192-866e-4403-ae4e-38005d35ad79",
   "metadata": {},
   "outputs": [
    {
     "data": {
      "text/html": [
       "<div>\n",
       "<style scoped>\n",
       "    .dataframe tbody tr th:only-of-type {\n",
       "        vertical-align: middle;\n",
       "    }\n",
       "\n",
       "    .dataframe tbody tr th {\n",
       "        vertical-align: top;\n",
       "    }\n",
       "\n",
       "    .dataframe thead th {\n",
       "        text-align: right;\n",
       "    }\n",
       "</style>\n",
       "<table border=\"1\" class=\"dataframe\">\n",
       "  <thead>\n",
       "    <tr style=\"text-align: right;\">\n",
       "      <th></th>\n",
       "      <th>Name</th>\n",
       "      <th>Description</th>\n",
       "      <th>geometry</th>\n",
       "    </tr>\n",
       "  </thead>\n",
       "  <tbody>\n",
       "    <tr>\n",
       "      <th>107</th>\n",
       "      <td></td>\n",
       "      <td></td>\n",
       "      <td>MULTIPOLYGON (((-93.72488 38.78091, -93.72488 ...</td>\n",
       "    </tr>\n",
       "    <tr>\n",
       "      <th>204</th>\n",
       "      <td></td>\n",
       "      <td></td>\n",
       "      <td>MULTIPOLYGON (((-100.39546 31.48261, -100.3958...</td>\n",
       "    </tr>\n",
       "    <tr>\n",
       "      <th>799</th>\n",
       "      <td></td>\n",
       "      <td></td>\n",
       "      <td>MULTIPOLYGON (((-97.53391 32.99568, -97.53440 ...</td>\n",
       "    </tr>\n",
       "  </tbody>\n",
       "</table>\n",
       "</div>"
      ],
      "text/plain": [
       "    Name Description                                           geometry\n",
       "107                   MULTIPOLYGON (((-93.72488 38.78091, -93.72488 ...\n",
       "204                   MULTIPOLYGON (((-100.39546 31.48261, -100.3958...\n",
       "799                   MULTIPOLYGON (((-97.53391 32.99568, -97.53440 ..."
      ]
     },
     "execution_count": 6,
     "metadata": {},
     "output_type": "execute_result"
    }
   ],
   "source": [
    "df.sample(3)"
   ]
  },
  {
   "cell_type": "code",
   "execution_count": 96,
   "id": "902c5ab3-aa72-4447-a153-cd279f22748b",
   "metadata": {},
   "outputs": [
    {
     "data": {
      "text/plain": [
       "[<ZipInfo filename='NATIONAL_FRS.KML' compress_type=deflate filemode='-rw-r--r--' file_size=88436523 compress_size=4493767>]"
      ]
     },
     "execution_count": 96,
     "metadata": {},
     "output_type": "execute_result"
    }
   ],
   "source": [
    "# parsing the kmz file\n",
    "from zipfile import ZipFile\n",
    "\n",
    "filename = 'national_frs.kmz'\n",
    "\n",
    "kmz = ZipFile(filename, 'r')\n",
    "#kml = kmz.open('doc.kml', 'r')\n",
    "kmz.filelist"
   ]
  },
  {
   "cell_type": "code",
   "execution_count": 100,
   "id": "9c58d8c8-0ee6-4b5b-b173-7d21200cf535",
   "metadata": {},
   "outputs": [],
   "source": [
    "kml = kmz.extract('NATIONAL_FRS.KML')               "
   ]
  },
  {
   "cell_type": "code",
   "execution_count": 103,
   "id": "df0cccb4-0574-4893-8639-00b06533373d",
   "metadata": {},
   "outputs": [],
   "source": [
    "# Read file from KML\n",
    "#fp = \"Sample (4).kml\"\n",
    "df2 = gpd.read_file(\"NATIONAL_FRS.KML\", driver='KML')"
   ]
  },
  {
   "cell_type": "markdown",
   "id": "fbaa84d9-176c-4045-af5e-cf16d0d331f2",
   "metadata": {},
   "source": [
    "df2.explore(\n",
    ")"
   ]
  },
  {
   "cell_type": "markdown",
   "id": "9ae87675-486e-4a38-aada-e0bb0ddd193f",
   "metadata": {},
   "source": [
    "# Next, we need to convert this GeoDataFrame to “Azimuthal Equidistant” -projection that has useful properties because all points on the map in that projection are at proportionately correct distances from the center point (defined with parameters lat_0 and lon_0), and all points on the map are at the correct direction from the center point.\n",
    "\n",
    "# To conduct the transformation, we are going to utilize again pyproj library which is also good at dealing with “special” projections such as the one demonstrated here."
   ]
  },
  {
   "cell_type": "code",
   "execution_count": 7,
   "id": "35fe5741-2a7c-4f91-96fd-75c98654883d",
   "metadata": {},
   "outputs": [],
   "source": [
    "# Reproject to aeqd projection using Proj4-string\n",
    "#df = df.to_crs('+proj=aeqd')\n",
    "df = df.to_crs('ESRI:102009')"
   ]
  },
  {
   "cell_type": "code",
   "execution_count": 8,
   "id": "f3c70351-6abb-4a55-99d6-a7aa5e4c1b40",
   "metadata": {},
   "outputs": [
    {
     "data": {
      "text/plain": [
       "<Derived Projected CRS: ESRI:102009>\n",
       "Name: North_America_Lambert_Conformal_Conic\n",
       "Axis Info [cartesian]:\n",
       "- E[east]: Easting (metre)\n",
       "- N[north]: Northing (metre)\n",
       "Area of Use:\n",
       "- name: North America - onshore and offshore: Canada - Alberta; British Columbia; Manitoba; New Brunswick; Newfoundland and Labrador; Northwest Territories; Nova Scotia; Nunavut; Ontario; Prince Edward Island; Quebec; Saskatchewan; Yukon. United States (USA) - Alabama; Alaska (mainland); Arizona; Arkansas; California; Colorado; Connecticut; Delaware; Florida; Georgia; Idaho; Illinois; Indiana; Iowa; Kansas; Kentucky; Louisiana; Maine; Maryland; Massachusetts; Michigan; Minnesota; Mississippi; Missouri; Montana; Nebraska; Nevada; New Hampshire; New Jersey; New Mexico; New York; North Carolina; North Dakota; Ohio; Oklahoma; Oregon; Pennsylvania; Rhode Island; South Carolina; South Dakota; Tennessee; Texas; Utah; Vermont; Virginia; Washington; West Virginia; Wisconsin; Wyoming.\n",
       "- bounds: (-172.54, 23.81, -47.74, 86.46)\n",
       "Coordinate Operation:\n",
       "- name: North_America_Lambert_Conformal_Conic\n",
       "- method: Lambert Conic Conformal (2SP)\n",
       "Datum: North American Datum 1983\n",
       "- Ellipsoid: GRS 1980\n",
       "- Prime Meridian: Greenwich"
      ]
     },
     "execution_count": 8,
     "metadata": {},
     "output_type": "execute_result"
    }
   ],
   "source": [
    "df.crs"
   ]
  },
  {
   "cell_type": "code",
   "execution_count": 9,
   "id": "08b836e7-1cba-4d65-b83c-6e129730c066",
   "metadata": {},
   "outputs": [],
   "source": [
    "# using a little buffer to avoid self intersected polygons from throwing errors while converting"
   ]
  },
  {
   "cell_type": "code",
   "execution_count": 10,
   "id": "f1471e2a-1a03-4f7d-aa1b-6a8ef0b2b0c3",
   "metadata": {},
   "outputs": [],
   "source": [
    "df_exploded = df.explode(column='geometry', ignore_index=True)"
   ]
  },
  {
   "cell_type": "code",
   "execution_count": 11,
   "id": "0e58c5fa-a6b3-4af6-baaa-330ad400fb8d",
   "metadata": {},
   "outputs": [],
   "source": [
    "df_exploded.dropna(inplace=True\n",
    "                           )"
   ]
  },
  {
   "cell_type": "code",
   "execution_count": 12,
   "id": "473e25d6-8160-4e93-822d-c0334f624ae9",
   "metadata": {},
   "outputs": [
    {
     "data": {
      "text/html": [
       "<div>\n",
       "<style scoped>\n",
       "    .dataframe tbody tr th:only-of-type {\n",
       "        vertical-align: middle;\n",
       "    }\n",
       "\n",
       "    .dataframe tbody tr th {\n",
       "        vertical-align: top;\n",
       "    }\n",
       "\n",
       "    .dataframe thead th {\n",
       "        text-align: right;\n",
       "    }\n",
       "</style>\n",
       "<table border=\"1\" class=\"dataframe\">\n",
       "  <thead>\n",
       "    <tr style=\"text-align: right;\">\n",
       "      <th></th>\n",
       "      <th>Name</th>\n",
       "      <th>Description</th>\n",
       "      <th>geometry</th>\n",
       "    </tr>\n",
       "  </thead>\n",
       "  <tbody>\n",
       "    <tr>\n",
       "      <th>0</th>\n",
       "      <td></td>\n",
       "      <td></td>\n",
       "      <td>POLYGON ((1742984.758 295931.959, 1742966.100 ...</td>\n",
       "    </tr>\n",
       "    <tr>\n",
       "      <th>1</th>\n",
       "      <td></td>\n",
       "      <td></td>\n",
       "      <td>POLYGON ((1329603.431 -1265983.091, 1329581.61...</td>\n",
       "    </tr>\n",
       "    <tr>\n",
       "      <th>2</th>\n",
       "      <td></td>\n",
       "      <td></td>\n",
       "      <td>POLYGON ((781844.545 -362106.124, 781801.555 -...</td>\n",
       "    </tr>\n",
       "    <tr>\n",
       "      <th>3</th>\n",
       "      <td></td>\n",
       "      <td></td>\n",
       "      <td>POLYGON ((783016.190 -359067.229, 783016.186 -...</td>\n",
       "    </tr>\n",
       "    <tr>\n",
       "      <th>4</th>\n",
       "      <td></td>\n",
       "      <td></td>\n",
       "      <td>POLYGON ((53971.489 -1073750.435, 53971.342 -1...</td>\n",
       "    </tr>\n",
       "    <tr>\n",
       "      <th>...</th>\n",
       "      <td>...</td>\n",
       "      <td>...</td>\n",
       "      <td>...</td>\n",
       "    </tr>\n",
       "    <tr>\n",
       "      <th>1003</th>\n",
       "      <td></td>\n",
       "      <td></td>\n",
       "      <td>POLYGON ((18982.574 -1096521.690, 18982.325 -1...</td>\n",
       "    </tr>\n",
       "    <tr>\n",
       "      <th>1004</th>\n",
       "      <td></td>\n",
       "      <td></td>\n",
       "      <td>POLYGON ((1435231.796 -1097120.960, 1435259.66...</td>\n",
       "    </tr>\n",
       "    <tr>\n",
       "      <th>1005</th>\n",
       "      <td></td>\n",
       "      <td></td>\n",
       "      <td>POLYGON ((-82867.184 -715330.007, -82877.167 -...</td>\n",
       "    </tr>\n",
       "    <tr>\n",
       "      <th>1006</th>\n",
       "      <td></td>\n",
       "      <td></td>\n",
       "      <td>POLYGON ((215041.811 523213.038, 215041.502 52...</td>\n",
       "    </tr>\n",
       "    <tr>\n",
       "      <th>1007</th>\n",
       "      <td></td>\n",
       "      <td></td>\n",
       "      <td>POLYGON ((1733720.371 292019.124, 1733709.029 ...</td>\n",
       "    </tr>\n",
       "  </tbody>\n",
       "</table>\n",
       "<p>1007 rows × 3 columns</p>\n",
       "</div>"
      ],
      "text/plain": [
       "     Name Description                                           geometry\n",
       "0                      POLYGON ((1742984.758 295931.959, 1742966.100 ...\n",
       "1                      POLYGON ((1329603.431 -1265983.091, 1329581.61...\n",
       "2                      POLYGON ((781844.545 -362106.124, 781801.555 -...\n",
       "3                      POLYGON ((783016.190 -359067.229, 783016.186 -...\n",
       "4                      POLYGON ((53971.489 -1073750.435, 53971.342 -1...\n",
       "...   ...         ...                                                ...\n",
       "1003                   POLYGON ((18982.574 -1096521.690, 18982.325 -1...\n",
       "1004                   POLYGON ((1435231.796 -1097120.960, 1435259.66...\n",
       "1005                   POLYGON ((-82867.184 -715330.007, -82877.167 -...\n",
       "1006                   POLYGON ((215041.811 523213.038, 215041.502 52...\n",
       "1007                   POLYGON ((1733720.371 292019.124, 1733709.029 ...\n",
       "\n",
       "[1007 rows x 3 columns]"
      ]
     },
     "execution_count": 12,
     "metadata": {},
     "output_type": "execute_result"
    }
   ],
   "source": [
    "df_exploded"
   ]
  },
  {
   "cell_type": "code",
   "execution_count": 13,
   "id": "798f50cd-e07d-4bcc-a4cf-827455288cf2",
   "metadata": {},
   "outputs": [],
   "source": [
    "#df_exploded['geometry'] = df_exploded.buffer(0.01)"
   ]
  },
  {
   "cell_type": "code",
   "execution_count": 14,
   "id": "72daf175-865f-459b-93c6-70d688476554",
   "metadata": {},
   "outputs": [
    {
     "name": "stdout",
     "output_type": "stream",
     "text": [
      "<class 'geopandas.geodataframe.GeoDataFrame'>\n",
      "Int64Index: 1007 entries, 0 to 1007\n",
      "Data columns (total 3 columns):\n",
      " #   Column       Non-Null Count  Dtype   \n",
      "---  ------       --------------  -----   \n",
      " 0   Name         1007 non-null   object  \n",
      " 1   Description  1007 non-null   object  \n",
      " 2   geometry     1007 non-null   geometry\n",
      "dtypes: geometry(1), object(2)\n",
      "memory usage: 31.5+ KB\n"
     ]
    }
   ],
   "source": [
    "df_exploded.info()"
   ]
  },
  {
   "cell_type": "markdown",
   "id": "8645791e-0150-4e38-8503-0ab62fd06662",
   "metadata": {},
   "source": [
    "# extracting polygons from multipolygons\n",
    "lines = []\n",
    "for value in df[\"geometry\"]:\n",
    "    line = value.boundary\n",
    "    lines.append(line)\n",
    "          \n",
    "df[\"Linestrings\"] = lines"
   ]
  },
  {
   "cell_type": "code",
   "execution_count": 15,
   "id": "9e905596-ac50-403b-9c1f-096510aaffc7",
   "metadata": {},
   "outputs": [
    {
     "data": {
      "text/html": [
       "<div>\n",
       "<style scoped>\n",
       "    .dataframe tbody tr th:only-of-type {\n",
       "        vertical-align: middle;\n",
       "    }\n",
       "\n",
       "    .dataframe tbody tr th {\n",
       "        vertical-align: top;\n",
       "    }\n",
       "\n",
       "    .dataframe thead th {\n",
       "        text-align: right;\n",
       "    }\n",
       "</style>\n",
       "<table border=\"1\" class=\"dataframe\">\n",
       "  <thead>\n",
       "    <tr style=\"text-align: right;\">\n",
       "      <th></th>\n",
       "      <th>Name</th>\n",
       "      <th>Description</th>\n",
       "      <th>geometry</th>\n",
       "    </tr>\n",
       "  </thead>\n",
       "  <tbody>\n",
       "    <tr>\n",
       "      <th>288</th>\n",
       "      <td></td>\n",
       "      <td></td>\n",
       "      <td>POLYGON ((-1262942.836 240489.868, -1262961.96...</td>\n",
       "    </tr>\n",
       "    <tr>\n",
       "      <th>373</th>\n",
       "      <td></td>\n",
       "      <td></td>\n",
       "      <td>POLYGON ((510319.721 94776.024, 510311.144 947...</td>\n",
       "    </tr>\n",
       "    <tr>\n",
       "      <th>753</th>\n",
       "      <td></td>\n",
       "      <td></td>\n",
       "      <td>POLYGON ((1420130.466 -1075104.173, 1420124.37...</td>\n",
       "    </tr>\n",
       "  </tbody>\n",
       "</table>\n",
       "</div>"
      ],
      "text/plain": [
       "    Name Description                                           geometry\n",
       "288                   POLYGON ((-1262942.836 240489.868, -1262961.96...\n",
       "373                   POLYGON ((510319.721 94776.024, 510311.144 947...\n",
       "753                   POLYGON ((1420130.466 -1075104.173, 1420124.37..."
      ]
     },
     "execution_count": 15,
     "metadata": {},
     "output_type": "execute_result"
    }
   ],
   "source": [
    "df_exploded.sample(3)"
   ]
  },
  {
   "cell_type": "code",
   "execution_count": 16,
   "id": "00a9034a-b355-4279-b013-f17532758493",
   "metadata": {},
   "outputs": [],
   "source": [
    "df_exploded.dropna(inplace=True)"
   ]
  },
  {
   "cell_type": "code",
   "execution_count": 17,
   "id": "0fe66876-f598-43b1-b76e-c4cbd23c3137",
   "metadata": {},
   "outputs": [
    {
     "data": {
      "text/plain": [
       "Name           0\n",
       "Description    0\n",
       "geometry       0\n",
       "dtype: int64"
      ]
     },
     "execution_count": 17,
     "metadata": {},
     "output_type": "execute_result"
    }
   ],
   "source": [
    "df_exploded.isna().sum()"
   ]
  },
  {
   "cell_type": "code",
   "execution_count": 18,
   "id": "ab72b478-34ef-495a-b077-e3d6845f5cec",
   "metadata": {},
   "outputs": [],
   "source": [
    "from shapely.geometry import LineString, LinearRing"
   ]
  },
  {
   "cell_type": "code",
   "execution_count": 19,
   "id": "8ec830df-3a7e-4157-9896-d8d566ad44b4",
   "metadata": {},
   "outputs": [],
   "source": [
    "df_exploded = df_exploded.reset_index()"
   ]
  },
  {
   "cell_type": "code",
   "execution_count": 20,
   "id": "9ae26f1c-9036-4e73-a8f1-f92fea171cfd",
   "metadata": {},
   "outputs": [],
   "source": [
    "df_exploded.rename(columns={'index':'id'}, inplace=True)"
   ]
  },
  {
   "cell_type": "markdown",
   "id": "c77fd33d-7bc3-4808-9213-7a603f04fe34",
   "metadata": {},
   "source": [
    "# Getting the polygong segments lengths"
   ]
  },
  {
   "cell_type": "code",
   "execution_count": 21,
   "id": "8dcf2bf2-c3a3-4ffc-abc8-8de097b3c28e",
   "metadata": {},
   "outputs": [],
   "source": [
    "# Facts about polygon outer vertices\n",
    "# - first vertex is the same as the last\n",
    "# - to get segments, ignore zero-th point (use it as from_point in next row)\n",
    "# create basic lists for creation of new dataframe\n",
    "indx = []  # for A1, A3\n",
    "sequ = []  # for seg order\n",
    "pxy0 = []  # from-point\n",
    "pxy1 = []  # to-point\n",
    "for ix,geom in zip(df_exploded.id, df_exploded.geometry):\n",
    "    num_pts = len(geom.exterior.xy[0])\n",
    "    #print(ix, \"Num points:\", num_pts)\n",
    "    old_xy = []\n",
    "    for inx, (x,y) in enumerate(zip(geom.exterior.xy[0],geom.exterior.xy[1])):\n",
    "        if (inx==0):\n",
    "            # first vertex is the same as the last\n",
    "            pass\n",
    "        else:\n",
    "            indx.append(ix)\n",
    "            sequ.append(inx)\n",
    "            pxy0.append(Point(old_xy))\n",
    "            pxy1.append(Point(x,y))\n",
    "        old_xy = (x,y)\n",
    "\n",
    "# Create new geodataframe \n",
    "pgon_segs  = gpd.GeoDataFrame({\"poly_id\": indx,\n",
    "                 \"vertex_id\": sequ,\n",
    "                 \"fr_point\": pxy0,\n",
    "                 \"to_point\": pxy1}, geometry=\"to_point\")\n",
    "# Compute segment lengths\n",
    "# Note: seg length is Euclidean distance, ***not geographic***\n",
    "pgon_segs[\"seg_length\"] = pgon_segs.apply(lambda row: row.fr_point.distance(row.to_point), axis=1)\n"
   ]
  },
  {
   "cell_type": "code",
   "execution_count": 22,
   "id": "33162702-0b6d-4f2f-adee-3d71360c5792",
   "metadata": {},
   "outputs": [
    {
     "data": {
      "text/html": [
       "<div>\n",
       "<style scoped>\n",
       "    .dataframe tbody tr th:only-of-type {\n",
       "        vertical-align: middle;\n",
       "    }\n",
       "\n",
       "    .dataframe tbody tr th {\n",
       "        vertical-align: top;\n",
       "    }\n",
       "\n",
       "    .dataframe thead th {\n",
       "        text-align: right;\n",
       "    }\n",
       "</style>\n",
       "<table border=\"1\" class=\"dataframe\">\n",
       "  <thead>\n",
       "    <tr style=\"text-align: right;\">\n",
       "      <th></th>\n",
       "      <th>poly_id</th>\n",
       "      <th>vertex_id</th>\n",
       "      <th>fr_point</th>\n",
       "      <th>to_point</th>\n",
       "      <th>seg_length</th>\n",
       "    </tr>\n",
       "  </thead>\n",
       "  <tbody>\n",
       "    <tr>\n",
       "      <th>0</th>\n",
       "      <td>0</td>\n",
       "      <td>1</td>\n",
       "      <td>POINT (1742984.757588502 295931.9587225499)</td>\n",
       "      <td>POINT (1742966.100 295954.424)</td>\n",
       "      <td>29.202663</td>\n",
       "    </tr>\n",
       "    <tr>\n",
       "      <th>1</th>\n",
       "      <td>0</td>\n",
       "      <td>2</td>\n",
       "      <td>POINT (1742966.099778431 295954.4238428031)</td>\n",
       "      <td>POINT (1742955.160 295945.126)</td>\n",
       "      <td>14.357377</td>\n",
       "    </tr>\n",
       "    <tr>\n",
       "      <th>2</th>\n",
       "      <td>0</td>\n",
       "      <td>3</td>\n",
       "      <td>POINT (1742955.159838006 295945.1258868397)</td>\n",
       "      <td>POINT (1742973.818 295922.661)</td>\n",
       "      <td>29.202735</td>\n",
       "    </tr>\n",
       "    <tr>\n",
       "      <th>3</th>\n",
       "      <td>0</td>\n",
       "      <td>4</td>\n",
       "      <td>POINT (1742973.817770591 295922.6607746293)</td>\n",
       "      <td>POINT (1742984.758 295931.959)</td>\n",
       "      <td>14.357279</td>\n",
       "    </tr>\n",
       "    <tr>\n",
       "      <th>4</th>\n",
       "      <td>1</td>\n",
       "      <td>1</td>\n",
       "      <td>POINT (1329603.430602161 -1265983.090926219)</td>\n",
       "      <td>POINT (1329581.616 -1265986.603)</td>\n",
       "      <td>22.095633</td>\n",
       "    </tr>\n",
       "    <tr>\n",
       "      <th>...</th>\n",
       "      <td>...</td>\n",
       "      <td>...</td>\n",
       "      <td>...</td>\n",
       "      <td>...</td>\n",
       "      <td>...</td>\n",
       "    </tr>\n",
       "    <tr>\n",
       "      <th>16463</th>\n",
       "      <td>1007</td>\n",
       "      <td>1</td>\n",
       "      <td>POINT (1733720.371282645 292019.1236909979)</td>\n",
       "      <td>POINT (1733709.029 292046.159)</td>\n",
       "      <td>29.317971</td>\n",
       "    </tr>\n",
       "    <tr>\n",
       "      <th>16464</th>\n",
       "      <td>1007</td>\n",
       "      <td>2</td>\n",
       "      <td>POINT (1733709.028539483 292046.1585868575)</td>\n",
       "      <td>POINT (1733702.498 292043.372)</td>\n",
       "      <td>7.100506</td>\n",
       "    </tr>\n",
       "    <tr>\n",
       "      <th>16465</th>\n",
       "      <td>1007</td>\n",
       "      <td>3</td>\n",
       "      <td>POINT (1733702.497661906 292043.3720438288)</td>\n",
       "      <td>POINT (1733713.840 292016.337)</td>\n",
       "      <td>29.317879</td>\n",
       "    </tr>\n",
       "    <tr>\n",
       "      <th>16466</th>\n",
       "      <td>1007</td>\n",
       "      <td>4</td>\n",
       "      <td>POINT (1733713.840429029 292016.3372575118)</td>\n",
       "      <td>POINT (1733718.739 292018.427)</td>\n",
       "      <td>5.325319</td>\n",
       "    </tr>\n",
       "    <tr>\n",
       "      <th>16467</th>\n",
       "      <td>1007</td>\n",
       "      <td>5</td>\n",
       "      <td>POINT (1733718.738537331 292018.4271275669)</td>\n",
       "      <td>POINT (1733720.371 292019.124)</td>\n",
       "      <td>1.775122</td>\n",
       "    </tr>\n",
       "  </tbody>\n",
       "</table>\n",
       "<p>16468 rows × 5 columns</p>\n",
       "</div>"
      ],
      "text/plain": [
       "       poly_id  vertex_id                                      fr_point  \\\n",
       "0            0          1   POINT (1742984.757588502 295931.9587225499)   \n",
       "1            0          2   POINT (1742966.099778431 295954.4238428031)   \n",
       "2            0          3   POINT (1742955.159838006 295945.1258868397)   \n",
       "3            0          4   POINT (1742973.817770591 295922.6607746293)   \n",
       "4            1          1  POINT (1329603.430602161 -1265983.090926219)   \n",
       "...        ...        ...                                           ...   \n",
       "16463     1007          1   POINT (1733720.371282645 292019.1236909979)   \n",
       "16464     1007          2   POINT (1733709.028539483 292046.1585868575)   \n",
       "16465     1007          3   POINT (1733702.497661906 292043.3720438288)   \n",
       "16466     1007          4   POINT (1733713.840429029 292016.3372575118)   \n",
       "16467     1007          5   POINT (1733718.738537331 292018.4271275669)   \n",
       "\n",
       "                               to_point  seg_length  \n",
       "0        POINT (1742966.100 295954.424)   29.202663  \n",
       "1        POINT (1742955.160 295945.126)   14.357377  \n",
       "2        POINT (1742973.818 295922.661)   29.202735  \n",
       "3        POINT (1742984.758 295931.959)   14.357279  \n",
       "4      POINT (1329581.616 -1265986.603)   22.095633  \n",
       "...                                 ...         ...  \n",
       "16463    POINT (1733709.029 292046.159)   29.317971  \n",
       "16464    POINT (1733702.498 292043.372)    7.100506  \n",
       "16465    POINT (1733713.840 292016.337)   29.317879  \n",
       "16466    POINT (1733718.739 292018.427)    5.325319  \n",
       "16467    POINT (1733720.371 292019.124)    1.775122  \n",
       "\n",
       "[16468 rows x 5 columns]"
      ]
     },
     "execution_count": 22,
     "metadata": {},
     "output_type": "execute_result"
    }
   ],
   "source": [
    "pgon_segs"
   ]
  },
  {
   "cell_type": "code",
   "execution_count": 23,
   "id": "cc9aceef-4a60-4324-910b-d76de5814860",
   "metadata": {},
   "outputs": [
    {
     "name": "stderr",
     "output_type": "stream",
     "text": [
      "C:\\Users\\Smile2DeaTH\\anaconda3\\lib\\site-packages\\pandas\\core\\dtypes\\cast.py:118: ShapelyDeprecationWarning: The array interface is deprecated and will no longer work in Shapely 2.0. Convert the '.coords' to a numpy array instead.\n",
      "  arr = construct_1d_object_array_from_listlike(values)\n"
     ]
    }
   ],
   "source": [
    "pgon_segs['line'] = pgon_segs.apply(lambda row: LineString([row['fr_point'], row['to_point']]), axis=1)"
   ]
  },
  {
   "cell_type": "code",
   "execution_count": 24,
   "id": "ec0e0e24-58e1-4084-8cf3-1342224cd90d",
   "metadata": {},
   "outputs": [],
   "source": [
    "pgon_segs.rename(columns={'line':'geometry'}, inplace=True)"
   ]
  },
  {
   "cell_type": "code",
   "execution_count": 25,
   "id": "75c6b042-f4d7-48ed-b61f-cac5490e24cf",
   "metadata": {},
   "outputs": [],
   "source": [
    "pgon_segs = pgon_segs.set_geometry('geometry')"
   ]
  },
  {
   "cell_type": "code",
   "execution_count": 26,
   "id": "974cfb58-a7f8-4153-b954-912bea9b1761",
   "metadata": {},
   "outputs": [],
   "source": [
    "pgon_segs = pgon_segs.set_crs(\"ESRI:102009\")"
   ]
  },
  {
   "cell_type": "code",
   "execution_count": 27,
   "id": "e7965b83-7001-46a2-ac2a-4e3e0e421e7c",
   "metadata": {},
   "outputs": [
    {
     "data": {
      "text/html": [
       "<div>\n",
       "<style scoped>\n",
       "    .dataframe tbody tr th:only-of-type {\n",
       "        vertical-align: middle;\n",
       "    }\n",
       "\n",
       "    .dataframe tbody tr th {\n",
       "        vertical-align: top;\n",
       "    }\n",
       "\n",
       "    .dataframe thead th {\n",
       "        text-align: right;\n",
       "    }\n",
       "</style>\n",
       "<table border=\"1\" class=\"dataframe\">\n",
       "  <thead>\n",
       "    <tr style=\"text-align: right;\">\n",
       "      <th></th>\n",
       "      <th>poly_id</th>\n",
       "      <th>vertex_id</th>\n",
       "      <th>fr_point</th>\n",
       "      <th>to_point</th>\n",
       "      <th>seg_length</th>\n",
       "      <th>geometry</th>\n",
       "    </tr>\n",
       "  </thead>\n",
       "  <tbody>\n",
       "    <tr>\n",
       "      <th>0</th>\n",
       "      <td>0</td>\n",
       "      <td>1</td>\n",
       "      <td>POINT (1742984.757588502 295931.9587225499)</td>\n",
       "      <td>POINT (1742966.100 295954.424)</td>\n",
       "      <td>29.202663</td>\n",
       "      <td>LINESTRING (1742984.758 295931.959, 1742966.10...</td>\n",
       "    </tr>\n",
       "    <tr>\n",
       "      <th>1</th>\n",
       "      <td>0</td>\n",
       "      <td>2</td>\n",
       "      <td>POINT (1742966.099778431 295954.4238428031)</td>\n",
       "      <td>POINT (1742955.160 295945.126)</td>\n",
       "      <td>14.357377</td>\n",
       "      <td>LINESTRING (1742966.100 295954.424, 1742955.16...</td>\n",
       "    </tr>\n",
       "    <tr>\n",
       "      <th>2</th>\n",
       "      <td>0</td>\n",
       "      <td>3</td>\n",
       "      <td>POINT (1742955.159838006 295945.1258868397)</td>\n",
       "      <td>POINT (1742973.818 295922.661)</td>\n",
       "      <td>29.202735</td>\n",
       "      <td>LINESTRING (1742955.160 295945.126, 1742973.81...</td>\n",
       "    </tr>\n",
       "    <tr>\n",
       "      <th>3</th>\n",
       "      <td>0</td>\n",
       "      <td>4</td>\n",
       "      <td>POINT (1742973.817770591 295922.6607746293)</td>\n",
       "      <td>POINT (1742984.758 295931.959)</td>\n",
       "      <td>14.357279</td>\n",
       "      <td>LINESTRING (1742973.818 295922.661, 1742984.75...</td>\n",
       "    </tr>\n",
       "    <tr>\n",
       "      <th>4</th>\n",
       "      <td>1</td>\n",
       "      <td>1</td>\n",
       "      <td>POINT (1329603.430602161 -1265983.090926219)</td>\n",
       "      <td>POINT (1329581.616 -1265986.603)</td>\n",
       "      <td>22.095633</td>\n",
       "      <td>LINESTRING (1329603.431 -1265983.091, 1329581....</td>\n",
       "    </tr>\n",
       "    <tr>\n",
       "      <th>...</th>\n",
       "      <td>...</td>\n",
       "      <td>...</td>\n",
       "      <td>...</td>\n",
       "      <td>...</td>\n",
       "      <td>...</td>\n",
       "      <td>...</td>\n",
       "    </tr>\n",
       "    <tr>\n",
       "      <th>16463</th>\n",
       "      <td>1007</td>\n",
       "      <td>1</td>\n",
       "      <td>POINT (1733720.371282645 292019.1236909979)</td>\n",
       "      <td>POINT (1733709.029 292046.159)</td>\n",
       "      <td>29.317971</td>\n",
       "      <td>LINESTRING (1733720.371 292019.124, 1733709.02...</td>\n",
       "    </tr>\n",
       "    <tr>\n",
       "      <th>16464</th>\n",
       "      <td>1007</td>\n",
       "      <td>2</td>\n",
       "      <td>POINT (1733709.028539483 292046.1585868575)</td>\n",
       "      <td>POINT (1733702.498 292043.372)</td>\n",
       "      <td>7.100506</td>\n",
       "      <td>LINESTRING (1733709.029 292046.159, 1733702.49...</td>\n",
       "    </tr>\n",
       "    <tr>\n",
       "      <th>16465</th>\n",
       "      <td>1007</td>\n",
       "      <td>3</td>\n",
       "      <td>POINT (1733702.497661906 292043.3720438288)</td>\n",
       "      <td>POINT (1733713.840 292016.337)</td>\n",
       "      <td>29.317879</td>\n",
       "      <td>LINESTRING (1733702.498 292043.372, 1733713.84...</td>\n",
       "    </tr>\n",
       "    <tr>\n",
       "      <th>16466</th>\n",
       "      <td>1007</td>\n",
       "      <td>4</td>\n",
       "      <td>POINT (1733713.840429029 292016.3372575118)</td>\n",
       "      <td>POINT (1733718.739 292018.427)</td>\n",
       "      <td>5.325319</td>\n",
       "      <td>LINESTRING (1733713.840 292016.337, 1733718.73...</td>\n",
       "    </tr>\n",
       "    <tr>\n",
       "      <th>16467</th>\n",
       "      <td>1007</td>\n",
       "      <td>5</td>\n",
       "      <td>POINT (1733718.738537331 292018.4271275669)</td>\n",
       "      <td>POINT (1733720.371 292019.124)</td>\n",
       "      <td>1.775122</td>\n",
       "      <td>LINESTRING (1733718.739 292018.427, 1733720.37...</td>\n",
       "    </tr>\n",
       "  </tbody>\n",
       "</table>\n",
       "<p>16468 rows × 6 columns</p>\n",
       "</div>"
      ],
      "text/plain": [
       "       poly_id  vertex_id                                      fr_point  \\\n",
       "0            0          1   POINT (1742984.757588502 295931.9587225499)   \n",
       "1            0          2   POINT (1742966.099778431 295954.4238428031)   \n",
       "2            0          3   POINT (1742955.159838006 295945.1258868397)   \n",
       "3            0          4   POINT (1742973.817770591 295922.6607746293)   \n",
       "4            1          1  POINT (1329603.430602161 -1265983.090926219)   \n",
       "...        ...        ...                                           ...   \n",
       "16463     1007          1   POINT (1733720.371282645 292019.1236909979)   \n",
       "16464     1007          2   POINT (1733709.028539483 292046.1585868575)   \n",
       "16465     1007          3   POINT (1733702.497661906 292043.3720438288)   \n",
       "16466     1007          4   POINT (1733713.840429029 292016.3372575118)   \n",
       "16467     1007          5   POINT (1733718.738537331 292018.4271275669)   \n",
       "\n",
       "                               to_point  seg_length  \\\n",
       "0        POINT (1742966.100 295954.424)   29.202663   \n",
       "1        POINT (1742955.160 295945.126)   14.357377   \n",
       "2        POINT (1742973.818 295922.661)   29.202735   \n",
       "3        POINT (1742984.758 295931.959)   14.357279   \n",
       "4      POINT (1329581.616 -1265986.603)   22.095633   \n",
       "...                                 ...         ...   \n",
       "16463    POINT (1733709.029 292046.159)   29.317971   \n",
       "16464    POINT (1733702.498 292043.372)    7.100506   \n",
       "16465    POINT (1733713.840 292016.337)   29.317879   \n",
       "16466    POINT (1733718.739 292018.427)    5.325319   \n",
       "16467    POINT (1733720.371 292019.124)    1.775122   \n",
       "\n",
       "                                                geometry  \n",
       "0      LINESTRING (1742984.758 295931.959, 1742966.10...  \n",
       "1      LINESTRING (1742966.100 295954.424, 1742955.16...  \n",
       "2      LINESTRING (1742955.160 295945.126, 1742973.81...  \n",
       "3      LINESTRING (1742973.818 295922.661, 1742984.75...  \n",
       "4      LINESTRING (1329603.431 -1265983.091, 1329581....  \n",
       "...                                                  ...  \n",
       "16463  LINESTRING (1733720.371 292019.124, 1733709.02...  \n",
       "16464  LINESTRING (1733709.029 292046.159, 1733702.49...  \n",
       "16465  LINESTRING (1733702.498 292043.372, 1733713.84...  \n",
       "16466  LINESTRING (1733713.840 292016.337, 1733718.73...  \n",
       "16467  LINESTRING (1733718.739 292018.427, 1733720.37...  \n",
       "\n",
       "[16468 rows x 6 columns]"
      ]
     },
     "execution_count": 27,
     "metadata": {},
     "output_type": "execute_result"
    }
   ],
   "source": [
    "pgon_segs"
   ]
  },
  {
   "cell_type": "code",
   "execution_count": 28,
   "id": "1aef531d-cf6b-4b74-a06d-345a5b1fbddf",
   "metadata": {},
   "outputs": [],
   "source": [
    "nodes_df = pgon_segs[['poly_id','vertex_id','fr_point','to_point']]"
   ]
  },
  {
   "cell_type": "code",
   "execution_count": 29,
   "id": "f3290cea-f6ec-4755-b1fa-85d4ee1e2017",
   "metadata": {},
   "outputs": [],
   "source": [
    "nodes_gdf = gpd.GeoDataFrame(nodes_df, geometry='fr_point', crs=pgon_segs.crs)"
   ]
  },
  {
   "cell_type": "code",
   "execution_count": 46,
   "id": "a3ab785c-bf63-4952-a4f5-d1c3f2016528",
   "metadata": {},
   "outputs": [
    {
     "data": {
      "text/html": [
       "<div>\n",
       "<style scoped>\n",
       "    .dataframe tbody tr th:only-of-type {\n",
       "        vertical-align: middle;\n",
       "    }\n",
       "\n",
       "    .dataframe tbody tr th {\n",
       "        vertical-align: top;\n",
       "    }\n",
       "\n",
       "    .dataframe thead th {\n",
       "        text-align: right;\n",
       "    }\n",
       "</style>\n",
       "<table border=\"1\" class=\"dataframe\">\n",
       "  <thead>\n",
       "    <tr style=\"text-align: right;\">\n",
       "      <th></th>\n",
       "      <th>poly_id</th>\n",
       "      <th>vertex_id</th>\n",
       "      <th>fr_point</th>\n",
       "      <th>to_point</th>\n",
       "    </tr>\n",
       "  </thead>\n",
       "  <tbody>\n",
       "    <tr>\n",
       "      <th>2926</th>\n",
       "      <td>168</td>\n",
       "      <td>262</td>\n",
       "      <td>POINT (1421271.074 -1075291.531)</td>\n",
       "      <td>POINT (1421270.897 -1075291.265)</td>\n",
       "    </tr>\n",
       "    <tr>\n",
       "      <th>1820</th>\n",
       "      <td>107</td>\n",
       "      <td>100</td>\n",
       "      <td>POINT (1445573.074 -1140659.083)</td>\n",
       "      <td>POINT (1445573.008 -1140658.951)</td>\n",
       "    </tr>\n",
       "    <tr>\n",
       "      <th>11940</th>\n",
       "      <td>784</td>\n",
       "      <td>5</td>\n",
       "      <td>POINT (-1248970.955 186794.575)</td>\n",
       "      <td>POINT (-1248961.843 186842.833)</td>\n",
       "    </tr>\n",
       "  </tbody>\n",
       "</table>\n",
       "</div>"
      ],
      "text/plain": [
       "       poly_id  vertex_id                          fr_point  \\\n",
       "2926       168        262  POINT (1421271.074 -1075291.531)   \n",
       "1820       107        100  POINT (1445573.074 -1140659.083)   \n",
       "11940      784          5   POINT (-1248970.955 186794.575)   \n",
       "\n",
       "                               to_point  \n",
       "2926   POINT (1421270.897 -1075291.265)  \n",
       "1820   POINT (1445573.008 -1140658.951)  \n",
       "11940   POINT (-1248961.843 186842.833)  "
      ]
     },
     "execution_count": 46,
     "metadata": {},
     "output_type": "execute_result"
    }
   ],
   "source": [
    "nodes_gdf.sample(3)"
   ]
  },
  {
   "cell_type": "code",
   "execution_count": 31,
   "id": "4f7ab583-972e-40f7-ba19-0d8c52665b8c",
   "metadata": {},
   "outputs": [],
   "source": [
    "pgon_segs.drop(columns=['fr_point','to_point'], inplace=True)"
   ]
  },
  {
   "cell_type": "code",
   "execution_count": 32,
   "id": "f2b6a275-be69-47ff-8d10-e99b70e70175",
   "metadata": {},
   "outputs": [],
   "source": [
    "pgon_segs['seg_length'] = round(pgon_segs['seg_length'], 1) "
   ]
  },
  {
   "cell_type": "code",
   "execution_count": 33,
   "id": "a317792d-f44f-4263-b227-c41185154f46",
   "metadata": {},
   "outputs": [
    {
     "data": {
      "text/html": [
       "<div>\n",
       "<style scoped>\n",
       "    .dataframe tbody tr th:only-of-type {\n",
       "        vertical-align: middle;\n",
       "    }\n",
       "\n",
       "    .dataframe tbody tr th {\n",
       "        vertical-align: top;\n",
       "    }\n",
       "\n",
       "    .dataframe thead th {\n",
       "        text-align: right;\n",
       "    }\n",
       "</style>\n",
       "<table border=\"1\" class=\"dataframe\">\n",
       "  <thead>\n",
       "    <tr style=\"text-align: right;\">\n",
       "      <th></th>\n",
       "      <th>poly_id</th>\n",
       "      <th>vertex_id</th>\n",
       "      <th>seg_length</th>\n",
       "      <th>geometry</th>\n",
       "    </tr>\n",
       "  </thead>\n",
       "  <tbody>\n",
       "    <tr>\n",
       "      <th>0</th>\n",
       "      <td>0</td>\n",
       "      <td>1</td>\n",
       "      <td>29.2</td>\n",
       "      <td>LINESTRING (1742984.758 295931.959, 1742966.10...</td>\n",
       "    </tr>\n",
       "    <tr>\n",
       "      <th>1</th>\n",
       "      <td>0</td>\n",
       "      <td>2</td>\n",
       "      <td>14.4</td>\n",
       "      <td>LINESTRING (1742966.100 295954.424, 1742955.16...</td>\n",
       "    </tr>\n",
       "    <tr>\n",
       "      <th>2</th>\n",
       "      <td>0</td>\n",
       "      <td>3</td>\n",
       "      <td>29.2</td>\n",
       "      <td>LINESTRING (1742955.160 295945.126, 1742973.81...</td>\n",
       "    </tr>\n",
       "  </tbody>\n",
       "</table>\n",
       "</div>"
      ],
      "text/plain": [
       "   poly_id  vertex_id  seg_length  \\\n",
       "0        0          1        29.2   \n",
       "1        0          2        14.4   \n",
       "2        0          3        29.2   \n",
       "\n",
       "                                            geometry  \n",
       "0  LINESTRING (1742984.758 295931.959, 1742966.10...  \n",
       "1  LINESTRING (1742966.100 295954.424, 1742955.16...  \n",
       "2  LINESTRING (1742955.160 295945.126, 1742973.81...  "
      ]
     },
     "execution_count": 33,
     "metadata": {},
     "output_type": "execute_result"
    }
   ],
   "source": [
    "pgon_segs.head(3)"
   ]
  },
  {
   "cell_type": "markdown",
   "id": "0df6e87d-3455-47f9-87a0-fe8cd074b6c3",
   "metadata": {},
   "source": [
    "m = pgon_segs.explore(tooltip='seg_length'\n",
    "\n",
    ")\n",
    "nodes_gdf['fr_point'].explore(m=m,\n",
    "                  color='red'\n",
    "                 )\n",
    "\n",
    "nodes_gdf['to_point'].explore(m=m,\n",
    "                  color='red'\n",
    "                 )\n",
    "\n",
    "df_exploded.explore(m=m, color='green'\n",
    "                   )\n",
    "\n",
    "folium.TileLayer('Cartodb dark_matter', control=True).add_to(m)  # use folium to add alternative tiles\n",
    "folium.LayerControl().add_to(m)  # use folium to add layer control\n",
    "m\n"
   ]
  },
  {
   "cell_type": "markdown",
   "id": "155fe00b-75c8-489f-ab27-d5f761ff9808",
   "metadata": {},
   "source": [
    "# importing Qgis shp files"
   ]
  },
  {
   "cell_type": "code",
   "execution_count": 42,
   "id": "cc4e4015-b54e-4410-b895-d98fb2967667",
   "metadata": {},
   "outputs": [],
   "source": [
    "qgis_lines = gpd.read_file(r\"qgis_exports/geom_info.shp\")"
   ]
  },
  {
   "cell_type": "code",
   "execution_count": 24,
   "id": "31219aa4-4a7e-4129-a827-a13f1243511b",
   "metadata": {},
   "outputs": [],
   "source": [
    "qgis_lines['length'] = qgis_lines['length'].round(1)"
   ]
  },
  {
   "cell_type": "code",
   "execution_count": 25,
   "id": "059f1d64-c209-4f1e-be2f-5474c754dc6e",
   "metadata": {},
   "outputs": [],
   "source": [
    "qgis_corners = gpd.read_file(r\"qgis_exports/corner_nodes.shp\")"
   ]
  },
  {
   "cell_type": "code",
   "execution_count": 26,
   "id": "72731477-1983-4860-90d5-9e749f6565a0",
   "metadata": {},
   "outputs": [],
   "source": [
    "qgis_simp_poly = gpd.read_file(r\"qgis_exports/simplified_polygons.shp\")"
   ]
  },
  {
   "cell_type": "code",
   "execution_count": 239,
   "id": "67fd4d36-bb00-4c8b-9ff4-71790692a568",
   "metadata": {},
   "outputs": [],
   "source": [
    "qgis_lines = qgis_lines.iloc[0:199]\n",
    "sample_corners = qgis_corners.iloc[0:199]\n",
    "sample_polygons = qgis_simp_poly.iloc[0:199]"
   ]
  },
  {
   "cell_type": "code",
   "execution_count": 20,
   "id": "f9e93f79-c6f1-4f40-80a1-97d0b000db65",
   "metadata": {},
   "outputs": [],
   "source": [
    "qgis_lines.to_file('sample_200/_lines.shp',crs=qgis_lines.crs)\n",
    "qgis_corners.to_file('sample_200/_corners.shp',crs=qgis_corners.crs)\n",
    "qgis_simp_poly.to_file('sample_200/_polygons.shp',crs=qgis_simp_poly.crs)"
   ]
  },
  {
   "cell_type": "code",
   "execution_count": null,
   "id": "1db6a3f2-c71f-43fe-9bd8-880188295c75",
   "metadata": {},
   "outputs": [],
   "source": [
    "# Picking one city address for testing in this case \"Chicago\""
   ]
  },
  {
   "cell_type": "code",
   "execution_count": 111,
   "id": "9d773d8c-befa-4436-9642-0031fdd653d8",
   "metadata": {},
   "outputs": [
    {
     "data": {
      "text/plain": [
       "36     20272090220000\n",
       "58     13283300040000\n",
       "90     16234160140000\n",
       "118    16023110020000\n",
       "167    20072240370000\n",
       "241    13141250330000\n",
       "282    19133210100000\n",
       "294    16122020491001\n",
       "346    13122270120000\n",
       "383    16041040290000\n",
       "419    14074040160000\n",
       "426    20074170290000\n",
       "449    20272030140000\n",
       "451    16263080320000\n",
       "470    20262070321003\n",
       "535    20282060300000\n",
       "563    16111320130000\n",
       "580    13341220240000\n",
       "591    19244160070000\n",
       "600        1131409017\n",
       "606    20171090400000\n",
       "612    20174050210000\n",
       "626    20182220420000\n",
       "628    16261020370000\n",
       "656     9163040160000\n",
       "732    16251080030000\n",
       "748    14203040180000\n",
       "780    16243140160000\n",
       "856    16224070280000\n",
       "858    13321130080000\n",
       "867    20213260080000\n",
       "868    20074130320000\n",
       "903    13012020150000\n",
       "907    13123100200000\n",
       "986    13293020020000\n",
       "Name: ParcelNu_1, dtype: object"
      ]
     },
     "execution_count": 111,
     "metadata": {},
     "output_type": "execute_result"
    }
   ],
   "source": [
    "qgis_simp_poly.query(\"mdCity == 'Chicago'\")['ParcelNu_1']"
   ]
  },
  {
   "cell_type": "code",
   "execution_count": 47,
   "id": "9ebe5af5-3ba1-4bcb-aa48-596c5ac4788a",
   "metadata": {},
   "outputs": [
    {
     "data": {
      "text/plain": [
       "26883 Park Terrace Ln    224\n",
       "13229 Alta Vista Way      56\n",
       "26486 Olivewood           37\n",
       "7495 Mill Pond Cir        35\n",
       "445 Marsac Ave            32\n",
       "                        ... \n",
       "8412 W Crain St            4\n",
       "6507 Cottage Ln            4\n",
       "308 Malcolm X Blvd         4\n",
       "3340 RIVES EATON RD        3\n",
       "40010 River Rd             3\n",
       "Name: mdAddress, Length: 955, dtype: int64"
      ]
     },
     "execution_count": 47,
     "metadata": {},
     "output_type": "execute_result"
    }
   ],
   "source": [
    "qgis_lines['mdAddress'].value_counts()  "
   ]
  },
  {
   "cell_type": "markdown",
   "id": "1cb3158b-81d2-47e5-92c9-f2f2c8047694",
   "metadata": {},
   "source": [
    "# addresses free form\n",
    "- 26883 Park Terrace Ln, Mission Viejo, CA, 92692-6116\n",
    "- 13229 Alta Vista Way, Sylmar, CA, 91342-3464\n",
    "- 26486 Olivewood, Lake Forest, CA, 92630-6723\n",
    "- 7495 Mill Pond Cir, Naples, FL, 34109-1708\n",
    "- 445 Marsac Ave, Park City, UT, 84060-5122"
   ]
  },
  {
   "cell_type": "code",
   "execution_count": null,
   "id": "e4f8a1d3-1c2e-4bd6-9619-787884148020",
   "metadata": {},
   "outputs": [],
   "source": []
  },
  {
   "cell_type": "markdown",
   "id": "06b8aefa-219a-40fb-b745-b6c42293d849",
   "metadata": {
    "tags": []
   },
   "source": [
    "# using Mellisa API  with requests lib"
   ]
  },
  {
   "cell_type": "markdown",
   "id": "400d7c72-5b37-4c13-bbc0-8afaf5aff2ee",
   "metadata": {},
   "source": [
    "- seems that requests needs more modifications to be used"
   ]
  },
  {
   "cell_type": "code",
   "execution_count": 2,
   "id": "41ef1fa7-0f9f-43c9-b56d-9bf264910ef0",
   "metadata": {},
   "outputs": [],
   "source": [
    "import requests\n",
    "import json"
   ]
  },
  {
   "cell_type": "code",
   "execution_count": 3,
   "id": "d1a2af62-e15b-410a-9df4-85728b35ebba",
   "metadata": {},
   "outputs": [],
   "source": [
    "url = \"https://property.melissadata.net/v4/WEB/LookupProperty?id=eSDChydmJdiUYj-c8V5aqV**nSAcwXpxhQ0PC2lXxuDAZ-**&t=test&cols=GrpAll&format=JSON&ff=8700 sunlit cove dr. St. Petersburg, FL\"\n",
    "\n",
    "payload={}\n",
    "headers = {}\n",
    "\n",
    "response = requests.request(\"GET\", url, headers=headers, data=payload)\n",
    "\n",
    "\n",
    "\n",
    "requests_data = response.text\n",
    "\n",
    "requests_data = json.loads(requests_data)\n",
    "final_request_data = pd.json_normalize(requests_data['Records'])\n",
    "\n"
   ]
  },
  {
   "cell_type": "code",
   "execution_count": null,
   "id": "56b6418d-3395-4137-a724-14b92943cb44",
   "metadata": {},
   "outputs": [
    {
     "data": {
      "text/html": [
       "<div>\n",
       "<style scoped>\n",
       "    .dataframe tbody tr th:only-of-type {\n",
       "        vertical-align: middle;\n",
       "    }\n",
       "\n",
       "    .dataframe tbody tr th {\n",
       "        vertical-align: top;\n",
       "    }\n",
       "\n",
       "    .dataframe thead th {\n",
       "        text-align: right;\n",
       "    }\n",
       "</style>\n",
       "<table border=\"1\" class=\"dataframe\">\n",
       "  <thead>\n",
       "    <tr style=\"text-align: right;\">\n",
       "      <th></th>\n",
       "      <th>Results</th>\n",
       "      <th>AssociatedParcels</th>\n",
       "      <th>Parcel.FIPSCode</th>\n",
       "      <th>Parcel.County</th>\n",
       "      <th>Parcel.UnformattedAPN</th>\n",
       "      <th>Parcel.FormattedAPN</th>\n",
       "      <th>Parcel.AlternateAPN</th>\n",
       "      <th>Parcel.APNYearChange</th>\n",
       "      <th>Parcel.PreviousAPN</th>\n",
       "      <th>Parcel.AccountNumber</th>\n",
       "      <th>...</th>\n",
       "      <th>YardGardenInfo.ArenaFlag</th>\n",
       "      <th>YardGardenInfo.WaterFeatureFlag</th>\n",
       "      <th>YardGardenInfo.PondFlag</th>\n",
       "      <th>YardGardenInfo.BoatLiftFlag</th>\n",
       "      <th>EstimatedValue.EstimatedValue</th>\n",
       "      <th>EstimatedValue.EstimatedMinValue</th>\n",
       "      <th>EstimatedValue.EstimatedMaxValue</th>\n",
       "      <th>EstimatedValue.ConfidenceScore</th>\n",
       "      <th>EstimatedValue.ValuationDate</th>\n",
       "      <th>Shape.WellKnownText</th>\n",
       "    </tr>\n",
       "  </thead>\n",
       "  <tbody>\n",
       "    <tr>\n",
       "      <th>0</th>\n",
       "      <td>YS02,YS07,YC01,GS05</td>\n",
       "      <td>[]</td>\n",
       "      <td>12103</td>\n",
       "      <td>Pinellas</td>\n",
       "      <td>19-30-17-86634-007-0080</td>\n",
       "      <td>193017866340070080</td>\n",
       "      <td></td>\n",
       "      <td></td>\n",
       "      <td></td>\n",
       "      <td>R210766</td>\n",
       "      <td>...</td>\n",
       "      <td></td>\n",
       "      <td></td>\n",
       "      <td></td>\n",
       "      <td></td>\n",
       "      <td>347000</td>\n",
       "      <td>291480</td>\n",
       "      <td>402520</td>\n",
       "      <td>84</td>\n",
       "      <td>20211222</td>\n",
       "      <td>POLYGON ((-82.634174745999985 27.8520448490000...</td>\n",
       "    </tr>\n",
       "  </tbody>\n",
       "</table>\n",
       "<p>1 rows × 320 columns</p>\n",
       "</div>"
      ],
      "text/plain": [
       "               Results AssociatedParcels Parcel.FIPSCode Parcel.County  \\\n",
       "0  YS02,YS07,YC01,GS05                []           12103      Pinellas   \n",
       "\n",
       "     Parcel.UnformattedAPN Parcel.FormattedAPN Parcel.AlternateAPN  \\\n",
       "0  19-30-17-86634-007-0080  193017866340070080                       \n",
       "\n",
       "  Parcel.APNYearChange Parcel.PreviousAPN Parcel.AccountNumber  ...  \\\n",
       "0                                                      R210766  ...   \n",
       "\n",
       "  YardGardenInfo.ArenaFlag YardGardenInfo.WaterFeatureFlag  \\\n",
       "0                                                            \n",
       "\n",
       "  YardGardenInfo.PondFlag YardGardenInfo.BoatLiftFlag  \\\n",
       "0                                                       \n",
       "\n",
       "  EstimatedValue.EstimatedValue EstimatedValue.EstimatedMinValue  \\\n",
       "0                        347000                           291480   \n",
       "\n",
       "  EstimatedValue.EstimatedMaxValue EstimatedValue.ConfidenceScore  \\\n",
       "0                           402520                             84   \n",
       "\n",
       "  EstimatedValue.ValuationDate  \\\n",
       "0                     20211222   \n",
       "\n",
       "                                 Shape.WellKnownText  \n",
       "0  POLYGON ((-82.634174745999985 27.8520448490000...  \n",
       "\n",
       "[1 rows x 320 columns]"
      ]
     },
     "execution_count": 4,
     "metadata": {},
     "output_type": "execute_result"
    }
   ],
   "source": [
    "final_request_data"
   ]
  },
  {
   "cell_type": "code",
   "execution_count": null,
   "id": "1a8a46e5-ac92-41b5-a14f-4cb9c2637f9a",
   "metadata": {},
   "outputs": [],
   "source": []
  },
  {
   "cell_type": "code",
   "execution_count": null,
   "id": "e8f73ba4-b75f-4b83-82b0-2060127267b1",
   "metadata": {},
   "outputs": [],
   "source": []
  },
  {
   "cell_type": "code",
   "execution_count": null,
   "id": "2958d1d5-d74c-49f5-b149-202365c7c899",
   "metadata": {},
   "outputs": [],
   "source": []
  },
  {
   "cell_type": "code",
   "execution_count": null,
   "id": "ec76446a-1955-4d08-b045-1158648581e4",
   "metadata": {},
   "outputs": [],
   "source": []
  },
  {
   "cell_type": "code",
   "execution_count": null,
   "id": "b270b71d-a02a-4c7e-911f-aa622b5190d8",
   "metadata": {},
   "outputs": [],
   "source": []
  },
  {
   "cell_type": "code",
   "execution_count": 35,
   "id": "d3662091-41a9-476a-96ed-20dc50c5a981",
   "metadata": {},
   "outputs": [],
   "source": [
    "final_request_data.to_csv('address.csv')"
   ]
  },
  {
   "cell_type": "code",
   "execution_count": 36,
   "id": "b2c21735-af60-4059-8859-818a376cae28",
   "metadata": {},
   "outputs": [
    {
     "data": {
      "text/plain": [
       "'D:\\\\ALL_data_science\\\\Freelancing\\\\UPwork\\\\Super Software'"
      ]
     },
     "execution_count": 36,
     "metadata": {},
     "output_type": "execute_result"
    }
   ],
   "source": [
    "%pwd"
   ]
  },
  {
   "cell_type": "markdown",
   "id": "b16332dc-5522-4c4a-acd8-6632f82352b0",
   "metadata": {
    "tags": []
   },
   "source": [
    "## Tested mellisa api with rest link on POSTMAN\n",
    "## and here invetigating the downloaded result"
   ]
  },
  {
   "cell_type": "code",
   "execution_count": null,
   "id": "fbcf3d53-a350-49bd-b9c7-5747ae21813b",
   "metadata": {},
   "outputs": [],
   "source": [
    "from shapely.geometry import Polygon\n",
    "import shapely"
   ]
  },
  {
   "cell_type": "markdown",
   "id": "af949469-9416-43bf-9744-e6033a1ff669",
   "metadata": {},
   "source": [
    "data = pd.read_json('Melissa API\\\\now', orient='columns')\n",
    "\n",
    "data_2 = pd.json_normalize(data['Records'])"
   ]
  },
  {
   "cell_type": "code",
   "execution_count": 259,
   "id": "7fed029a-6d7c-4b50-93b3-87aa672c4f89",
   "metadata": {},
   "outputs": [],
   "source": [
    "#data_2.to_csv(\"Melissa API\\\\updated_request_na.csv\", na_rep='NA')"
   ]
  },
  {
   "cell_type": "markdown",
   "id": "1afb51ef-b0b4-4383-8d9b-311d5d710eff",
   "metadata": {},
   "source": [
    "# Create ‘out.zip’ containing ‘out.csv’\n",
    "compression_opts = dict(method='zip',\n",
    "                        archive_name='out.csv')  \n",
    "df.to_csv('out.zip', index=False,\n",
    "          compression=compression_opts) "
   ]
  },
  {
   "cell_type": "code",
   "execution_count": 392,
   "id": "96f5a1fa-c826-463b-8510-c6ab4b8d9f23",
   "metadata": {},
   "outputs": [],
   "source": [
    "gdf_melissa = gpd.GeoDataFrame(final_request_data)"
   ]
  },
  {
   "cell_type": "code",
   "execution_count": 393,
   "id": "e3f9e3ea-9c8e-424d-99c0-2dbd08f38f7a",
   "metadata": {},
   "outputs": [],
   "source": [
    "gdf_melissa.rename(columns={'Shape.WellKnownText':'geometry'},inplace=True)"
   ]
  },
  {
   "cell_type": "code",
   "execution_count": 394,
   "id": "8d90ee18-20e0-4e23-9a5c-bb05ac5fbf3a",
   "metadata": {},
   "outputs": [],
   "source": [
    "geometry = gdf_melissa['geometry'].map(shapely.wkt.loads) # mapping the geometry\n",
    "gdf_melissa = gpd.GeoDataFrame(gdf_melissa, crs=('WGS84'), geometry=geometry)"
   ]
  },
  {
   "cell_type": "code",
   "execution_count": 395,
   "id": "b0dab95b-e707-47f9-96c6-9bc4508a5dbb",
   "metadata": {},
   "outputs": [],
   "source": [
    "gdf_melissa.reset_index(inplace=True)\n",
    "gdf_melissa.rename(columns={'index':'id'}, inplace=True)"
   ]
  },
  {
   "cell_type": "code",
   "execution_count": 396,
   "id": "ab41ad9d-c283-4957-b891-21d1bec5c37e",
   "metadata": {},
   "outputs": [],
   "source": [
    "melissa_exploded = gdf_melissa.explode(column='geometry', ignore_index=True)"
   ]
  },
  {
   "cell_type": "code",
   "execution_count": 397,
   "id": "edd6d676-7890-4400-b795-54b7fb43fed3",
   "metadata": {},
   "outputs": [
    {
     "data": {
      "text/plain": [
       "0    POLYGON ((-117.65013 33.57209, -117.65043 33.5...\n",
       "dtype: geometry"
      ]
     },
     "execution_count": 397,
     "metadata": {},
     "output_type": "execute_result"
    }
   ],
   "source": [
    "melissa_exploded.geometry.simplify(1)"
   ]
  },
  {
   "cell_type": "code",
   "execution_count": 409,
   "id": "91813725-6731-49ad-bbd7-e3de13b5721c",
   "metadata": {},
   "outputs": [],
   "source": [
    "x, y = melissa_exploded.geometry[0].exterior.coords.xy"
   ]
  },
  {
   "cell_type": "code",
   "execution_count": 414,
   "id": "5e01ded4-8d01-46bc-a16d-c73db3ba77ba",
   "metadata": {},
   "outputs": [
    {
     "data": {
      "text/plain": [
       "array.array"
      ]
     },
     "execution_count": 414,
     "metadata": {},
     "output_type": "execute_result"
    }
   ],
   "source": [
    "type(x)"
   ]
  },
  {
   "cell_type": "code",
   "execution_count": 398,
   "id": "82f3b2ab-3bc4-4805-965d-8de65caa6a6e",
   "metadata": {},
   "outputs": [],
   "source": [
    "# Facts about polygon outer vertices\n",
    "# - first vertex is the same as the last\n",
    "# - to get segments, ignore zero-th point (use it as from_point in next row)\n",
    "# create basic lists for creation of new dataframe\n",
    "indx = []  # for A1, A3\n",
    "sequ = []  # for seg order\n",
    "pxy0 = []  # from-point\n",
    "pxy1 = []  # to-point\n",
    "for ix,geom in zip(melissa_exploded.index, melissa_exploded.geometry):\n",
    "    num_pts = len(geom.exterior.xy[0])\n",
    "    #print(ix, \"Num points:\", num_pts)\n",
    "    old_xy = []\n",
    "    for inx, (x,y) in enumerate(zip(geom.exterior.xy[0],geom.exterior.xy[1])):\n",
    "        if (inx==0):\n",
    "            # first vertex is the same as the last\n",
    "            pass\n",
    "        else:\n",
    "            indx.append(ix)\n",
    "            sequ.append(inx)\n",
    "            pxy0.append(Point(old_xy))\n",
    "            pxy1.append(Point(x,y))\n",
    "        old_xy = (x,y)\n",
    "\n",
    "# Create new geodataframe \n",
    "melissa_segs  = gpd.GeoDataFrame({\"poly_id\": indx,\n",
    "                 \"vertex_id\": sequ,\n",
    "                 \"fr_point\": pxy0,\n",
    "                 \"to_point\": pxy1}, geometry=\"to_point\", crs='ESRI:102009')\n",
    "# Compute segment lengths\n",
    "# Note: seg length is Euclidean distance, ***not geographic***\n",
    "melissa_segs[\"seg_length\"] = melissa_segs.apply(lambda row: row.fr_point.distance(row.to_point), axis=1)\n"
   ]
  },
  {
   "cell_type": "code",
   "execution_count": 399,
   "id": "4ca163db-937d-4116-8a06-1b11cff5d14b",
   "metadata": {},
   "outputs": [],
   "source": [
    "melissa_segs.geometry = melissa_segs.fr_point"
   ]
  },
  {
   "cell_type": "code",
   "execution_count": 400,
   "id": "b1e1153e-4fd6-4193-bd5f-a2a202be0f45",
   "metadata": {},
   "outputs": [
    {
     "data": {
      "text/plain": [
       "poly_id                                              0\n",
       "vertex_id                                            1\n",
       "fr_point      POINT (-117.650128071 33.57209265100005)\n",
       "to_point      POINT (-117.650128071 33.57209265100005)\n",
       "seg_length                                    0.000358\n",
       "Name: 0, dtype: object"
      ]
     },
     "execution_count": 400,
     "metadata": {},
     "output_type": "execute_result"
    }
   ],
   "source": [
    "melissa_segs.iloc[0]"
   ]
  },
  {
   "cell_type": "code",
   "execution_count": 403,
   "id": "10fbb2d1-c98f-447f-84ce-2c18677f3052",
   "metadata": {},
   "outputs": [],
   "source": [
    "from shapely.geometry import Point, mapping, shape"
   ]
  },
  {
   "cell_type": "code",
   "execution_count": 405,
   "id": "e46cb385-2cd4-4f43-9ae0-ef183e1a2a34",
   "metadata": {},
   "outputs": [
    {
     "ename": "SyntaxError",
     "evalue": "invalid syntax (Temp/ipykernel_19392/4190484504.py, line 1)",
     "output_type": "error",
     "traceback": [
      "\u001b[1;36m  File \u001b[1;32m\"C:\\Users\\SMILE2~1\\AppData\\Local\\Temp/ipykernel_19392/4190484504.py\"\u001b[1;36m, line \u001b[1;32m1\u001b[0m\n\u001b[1;33m    print mapping(melissa_segs['fr_point'][0])\u001b[0m\n\u001b[1;37m          ^\u001b[0m\n\u001b[1;31mSyntaxError\u001b[0m\u001b[1;31m:\u001b[0m invalid syntax\n"
     ]
    }
   ],
   "source": [
    "print mapping(melissa_segs['fr_point'][0])"
   ]
  },
  {
   "cell_type": "markdown",
   "id": "91cb8404-c418-4875-b0e9-57f37bfef98d",
   "metadata": {},
   "source": [
    "gdf_melissa.explore(\n",
    ")"
   ]
  },
  {
   "cell_type": "code",
   "execution_count": null,
   "id": "6f708a1e-5d71-4fb2-9bc9-24810213ecc2",
   "metadata": {},
   "outputs": [],
   "source": []
  },
  {
   "cell_type": "code",
   "execution_count": null,
   "id": "6fc86b05-ce74-4e0f-ba73-2b03af6c3f44",
   "metadata": {},
   "outputs": [],
   "source": []
  },
  {
   "cell_type": "markdown",
   "id": "1f3b078c-76fe-48db-8442-50a9d633b26d",
   "metadata": {},
   "source": [
    "-----------------------------"
   ]
  },
  {
   "cell_type": "markdown",
   "id": "b2582a73-28bd-4e96-98ad-76db086293bf",
   "metadata": {},
   "source": [
    "# working with the shp files from ArcGis"
   ]
  },
  {
   "cell_type": "code",
   "execution_count": 240,
   "id": "da410db9-461a-472e-839b-6fc0b675ad3f",
   "metadata": {},
   "outputs": [],
   "source": [
    "with open('ArcGis files\\\\nuke.dbf.xml') as f:\n",
    "    sml = f.read()"
   ]
  },
  {
   "cell_type": "code",
   "execution_count": null,
   "id": "6077c59f-885d-4339-bb9f-fecb4b5cbda5",
   "metadata": {},
   "outputs": [],
   "source": [
    "### solution from medium"
   ]
  },
  {
   "cell_type": "code",
   "execution_count": 257,
   "id": "3282b5bb-f4de-4851-bc97-d27683efdbca",
   "metadata": {},
   "outputs": [],
   "source": [
    "import xml.etree.ElementTree as et \n",
    "\n",
    "xtree = et.parse(\"ArcGis files\\\\nuke.dbf.xml\")\n",
    "xroot = xtree.getroot()"
   ]
  },
  {
   "cell_type": "code",
   "execution_count": null,
   "id": "6c0ffa31-be45-49ad-89d1-5f34194e73b0",
   "metadata": {},
   "outputs": [],
   "source": [
    "def parse_XML(xml_file, df_cols): \n",
    "    \"\"\"Parse the input XML file and store the result in a pandas \n",
    "    DataFrame with the given columns. \n",
    "    \n",
    "    The first element of df_cols is supposed to be the identifier \n",
    "    variable, which is an attribute of each node element in the \n",
    "    XML data; other features will be parsed from the text content \n",
    "    of each sub-element. \n",
    "    \"\"\"\n",
    "    \n",
    "    xtree = et.parse(xml_file)\n",
    "    xroot = xtree.getroot()\n",
    "    rows = []\n",
    "    \n",
    "    for node in xroot: \n",
    "        res = []\n",
    "        res.append(node.attrib.get(df_cols[0]))\n",
    "        for el in df_cols[1:]: \n",
    "            if node is not None and node.find(el) is not None:\n",
    "                res.append(node.find(el).text)\n",
    "            else: \n",
    "                res.append(None)\n",
    "        rows.append({df_cols[i]: res[i] \n",
    "                     for i, _ in enumerate(df_cols)})\n",
    "    \n",
    "    out_df = pd.DataFrame(rows, columns=df_cols)\n",
    "        \n",
    "    return out_df"
   ]
  },
  {
   "cell_type": "code",
   "execution_count": null,
   "id": "55b924a3-88ed-4859-b8b5-a4ac6ea2752d",
   "metadata": {},
   "outputs": [],
   "source": []
  },
  {
   "cell_type": "code",
   "execution_count": null,
   "id": "95b28cab-5563-435f-a964-f86f4c64af84",
   "metadata": {},
   "outputs": [],
   "source": []
  },
  {
   "cell_type": "code",
   "execution_count": null,
   "id": "d8c47f73-b1b0-4a09-aa63-86df5fc5c6c6",
   "metadata": {},
   "outputs": [],
   "source": []
  },
  {
   "cell_type": "code",
   "execution_count": null,
   "id": "5fdabcf7-f923-4102-a930-94d811678d39",
   "metadata": {},
   "outputs": [],
   "source": []
  },
  {
   "cell_type": "markdown",
   "id": "579b06ff-9487-4c0b-86b2-097dd68ca73c",
   "metadata": {},
   "source": [
    "--------------------------------"
   ]
  },
  {
   "cell_type": "code",
   "execution_count": null,
   "id": "7d2e7fde-51bf-498b-97bf-81258d2e93f4",
   "metadata": {},
   "outputs": [],
   "source": [
    "from shapely.geometry import Point,LineString, Polygon\n",
    "from shapely.geometry import MultiPoint, MultiLineString, MultiPolygon, box\n",
    "from folium import Map, Marker, GeoJson, LayerControl\n",
    "from descartes import PolygonPatch"
   ]
  },
  {
   "cell_type": "markdown",
   "id": "366b07bd-7a14-46d2-a851-f934d1360b5b",
   "metadata": {},
   "source": [
    "# converting coooredinate points to lat/lon"
   ]
  },
  {
   "cell_type": "code",
   "execution_count": 9,
   "id": "f3068997-451e-4ede-bfba-240943ce2787",
   "metadata": {},
   "outputs": [],
   "source": [
    "# converting coooredinate points to lat/lon\n",
    "def xy_to_lonlat(x, y):\n",
    "    proj_latlon = pyproj.Proj(proj='latlong',datum='WGS84')\n",
    "    proj_xy = pyproj.Proj(proj=\"utm\", zone=33, datum='WGS84')\n",
    "    lonlat = pyproj.transform(proj_xy, proj_latlon, x, y)\n",
    "    return lonlat[0], lonlat[1]"
   ]
  },
  {
   "cell_type": "code",
   "execution_count": 14,
   "id": "12ff658d-b11e-49eb-818c-612cfd2a8ef9",
   "metadata": {},
   "outputs": [
    {
     "name": "stderr",
     "output_type": "stream",
     "text": [
      "C:\\Users\\SMILE2~1\\AppData\\Local\\Temp/ipykernel_4880/3998854258.py:4: DeprecationWarning: This function is deprecated. See: https://pyproj4.github.io/pyproj/stable/gotchas.html#upgrading-to-pyproj-2-from-pyproj-1\n",
      "  lonlat = pyproj.transform(proj_xy, proj_latlon, x, y)\n"
     ]
    },
    {
     "data": {
      "text/plain": [
       "(22.754963395595265, 9.426418934470277)"
      ]
     },
     "execution_count": 14,
     "metadata": {},
     "output_type": "execute_result"
    }
   ],
   "source": [
    "xy_to_lonlat(1353844.24, 1051503.78)"
   ]
  },
  {
   "cell_type": "code",
   "execution_count": 18,
   "id": "f481faab-9efd-404e-8e50-fd167067bf6e",
   "metadata": {},
   "outputs": [],
   "source": [
    "point_= (22.754963395595265, 9.426418934470277)\n",
    "tanks = ox.geometries.geometries_from_point(center_point=point_, tags = {'man_made':'storage_tank'}, dist=1000)"
   ]
  },
  {
   "cell_type": "markdown",
   "id": "7ee9d7e3-f96f-47e6-ad77-8ec16af80f49",
   "metadata": {
    "tags": []
   },
   "source": [
    "# Using the donwlaoded files from EPA"
   ]
  },
  {
   "cell_type": "code",
   "execution_count": 132,
   "id": "0e0f1b62-4419-4f07-9a41-375b21616567",
   "metadata": {},
   "outputs": [],
   "source": [
    "import numpy as np\n",
    "import pandas as pd\n",
    "import dask.dataframe as dd\n",
    "import dask.array as da\n",
    "import dask.bag as db"
   ]
  },
  {
   "cell_type": "code",
   "execution_count": 137,
   "id": "697aa218-e535-4613-9c31-8db68bbb0bd4",
   "metadata": {},
   "outputs": [],
   "source": [
    "alrernative_name = pd.read_csv(\"EPA API\\\\downloads\\\\national_combined\\\\NATIONAL_ALTERNATIVE_NAME_FILE.CSV\")"
   ]
  },
  {
   "cell_type": "code",
   "execution_count": 138,
   "id": "419bfa09-35c1-45a8-af79-f1fe81826eed",
   "metadata": {},
   "outputs": [
    {
     "name": "stdout",
     "output_type": "stream",
     "text": [
      "<class 'pandas.core.frame.DataFrame'>\n",
      "RangeIndex: 5527820 entries, 0 to 5527819\n",
      "Data columns (total 5 columns):\n",
      " #   Column                 Dtype \n",
      "---  ------                 ----- \n",
      " 0   REGISTRY_ID            int64 \n",
      " 1   PGM_SYS_ACRNM          object\n",
      " 2   PGM_SYS_ID             object\n",
      " 3   ALTERNATIVE_NAME       object\n",
      " 4   ALTERNATIVE_NAME_TYPE  object\n",
      "dtypes: int64(1), object(4)\n",
      "memory usage: 210.9+ MB\n"
     ]
    }
   ],
   "source": [
    "alrernative_name.info()"
   ]
  },
  {
   "cell_type": "code",
   "execution_count": 136,
   "id": "cdc05966-43a9-4306-8fdb-cace2b13e7bd",
   "metadata": {},
   "outputs": [
    {
     "data": {
      "text/html": [
       "<div>\n",
       "<style scoped>\n",
       "    .dataframe tbody tr th:only-of-type {\n",
       "        vertical-align: middle;\n",
       "    }\n",
       "\n",
       "    .dataframe tbody tr th {\n",
       "        vertical-align: top;\n",
       "    }\n",
       "\n",
       "    .dataframe thead th {\n",
       "        text-align: right;\n",
       "    }\n",
       "</style>\n",
       "<table border=\"1\" class=\"dataframe\">\n",
       "  <thead>\n",
       "    <tr style=\"text-align: right;\">\n",
       "      <th></th>\n",
       "      <th>REGISTRY_ID</th>\n",
       "      <th>PGM_SYS_ACRNM</th>\n",
       "      <th>PGM_SYS_ID</th>\n",
       "      <th>ALTERNATIVE_NAME</th>\n",
       "      <th>ALTERNATIVE_NAME_TYPE</th>\n",
       "    </tr>\n",
       "  </thead>\n",
       "  <tbody>\n",
       "    <tr>\n",
       "      <th>0</th>\n",
       "      <td>110000491735</td>\n",
       "      <td>NCDB</td>\n",
       "      <td>I10#1997082913928 1</td>\n",
       "      <td>MAPCO ALASKA PETROLEUM</td>\n",
       "      <td>PROGRAM NAME</td>\n",
       "    </tr>\n",
       "    <tr>\n",
       "      <th>1</th>\n",
       "      <td>110000491735</td>\n",
       "      <td>ICIS</td>\n",
       "      <td>2600029861</td>\n",
       "      <td>FLINT HILLS RESOURCES ALASKA LLC - PORT OF ANC...</td>\n",
       "      <td>PROGRAM NAME</td>\n",
       "    </tr>\n",
       "    <tr>\n",
       "      <th>2</th>\n",
       "      <td>110000491735</td>\n",
       "      <td>RCRAINFO</td>\n",
       "      <td>AKD000641852</td>\n",
       "      <td>WILLIAMS ALASKA PETROLEUM INC</td>\n",
       "      <td>PRIMARY</td>\n",
       "    </tr>\n",
       "    <tr>\n",
       "      <th>3</th>\n",
       "      <td>110000491735</td>\n",
       "      <td>TRIS</td>\n",
       "      <td>99501MPCLS1076O</td>\n",
       "      <td>FLINT HILLS RESOURCES ALASKA LLC ANCHORAGE TER...</td>\n",
       "      <td>PROGRAM NAME</td>\n",
       "    </tr>\n",
       "    <tr>\n",
       "      <th>4</th>\n",
       "      <td>110000491735</td>\n",
       "      <td>RCRAINFO</td>\n",
       "      <td>AKD980987499</td>\n",
       "      <td>OCEAN DOCK TERMINAL</td>\n",
       "      <td>PROGRAM NAME</td>\n",
       "    </tr>\n",
       "  </tbody>\n",
       "</table>\n",
       "</div>"
      ],
      "text/plain": [
       "    REGISTRY_ID PGM_SYS_ACRNM           PGM_SYS_ID  \\\n",
       "0  110000491735          NCDB  I10#1997082913928 1   \n",
       "1  110000491735          ICIS           2600029861   \n",
       "2  110000491735      RCRAINFO         AKD000641852   \n",
       "3  110000491735          TRIS      99501MPCLS1076O   \n",
       "4  110000491735      RCRAINFO         AKD980987499   \n",
       "\n",
       "                                    ALTERNATIVE_NAME ALTERNATIVE_NAME_TYPE  \n",
       "0                             MAPCO ALASKA PETROLEUM          PROGRAM NAME  \n",
       "1  FLINT HILLS RESOURCES ALASKA LLC - PORT OF ANC...          PROGRAM NAME  \n",
       "2                      WILLIAMS ALASKA PETROLEUM INC               PRIMARY  \n",
       "3  FLINT HILLS RESOURCES ALASKA LLC ANCHORAGE TER...          PROGRAM NAME  \n",
       "4                                OCEAN DOCK TERMINAL          PROGRAM NAME  "
      ]
     },
     "execution_count": 136,
     "metadata": {},
     "output_type": "execute_result"
    }
   ],
   "source": [
    "alrernative_name.head()"
   ]
  },
  {
   "cell_type": "code",
   "execution_count": 129,
   "id": "9e7fdc9f-d074-4d9b-8753-eb86d8824e14",
   "metadata": {},
   "outputs": [],
   "source": [
    "environmental_interest = pd.read_csv(\"EPA API\\\\downloads\\\\national_combined\\\\NATIONAL_ENVIRONMENTAL_INTEREST_FILE.CSV\")"
   ]
  },
  {
   "cell_type": "code",
   "execution_count": 130,
   "id": "948a76cf-cfe7-4579-a86b-d4d0a814247e",
   "metadata": {},
   "outputs": [
    {
     "name": "stdout",
     "output_type": "stream",
     "text": [
      "<class 'pandas.core.frame.DataFrame'>\n",
      "RangeIndex: 7104081 entries, 0 to 7104080\n",
      "Data columns (total 14 columns):\n",
      " #   Column                Dtype \n",
      "---  ------                ----- \n",
      " 0   REGISTRY_ID           int64 \n",
      " 1   PGM_SYS_ACRNM         object\n",
      " 2   PGM_SYS_ID            object\n",
      " 3   INTEREST_TYPE         object\n",
      " 4   FED_STATE_CODE        object\n",
      " 5   START_DATE            object\n",
      " 6   START_DATE_QUALIFIER  object\n",
      " 7   END_DATE              object\n",
      " 8   END_DATE_QUALIFIER    object\n",
      " 9   SOURCE_OF_DATA        object\n",
      " 10  LAST_REPORTED_DATE    object\n",
      " 11  CREATE_DATE           object\n",
      " 12  UPDATE_DATE           object\n",
      " 13  ACTIVE_STATUS         object\n",
      "dtypes: int64(1), object(13)\n",
      "memory usage: 758.8+ MB\n"
     ]
    }
   ],
   "source": [
    "environmental_interest.info()"
   ]
  },
  {
   "cell_type": "code",
   "execution_count": 140,
   "id": "54437734-08a2-4a4e-93c6-8d47d92b70c7",
   "metadata": {},
   "outputs": [
    {
     "data": {
      "text/html": [
       "<div>\n",
       "<style scoped>\n",
       "    .dataframe tbody tr th:only-of-type {\n",
       "        vertical-align: middle;\n",
       "    }\n",
       "\n",
       "    .dataframe tbody tr th {\n",
       "        vertical-align: top;\n",
       "    }\n",
       "\n",
       "    .dataframe thead th {\n",
       "        text-align: right;\n",
       "    }\n",
       "</style>\n",
       "<table border=\"1\" class=\"dataframe\">\n",
       "  <thead>\n",
       "    <tr style=\"text-align: right;\">\n",
       "      <th></th>\n",
       "      <th>REGISTRY_ID</th>\n",
       "      <th>PGM_SYS_ACRNM</th>\n",
       "      <th>PGM_SYS_ID</th>\n",
       "      <th>INTEREST_TYPE</th>\n",
       "      <th>FED_STATE_CODE</th>\n",
       "      <th>START_DATE</th>\n",
       "      <th>START_DATE_QUALIFIER</th>\n",
       "      <th>END_DATE</th>\n",
       "      <th>END_DATE_QUALIFIER</th>\n",
       "      <th>SOURCE_OF_DATA</th>\n",
       "      <th>LAST_REPORTED_DATE</th>\n",
       "      <th>CREATE_DATE</th>\n",
       "      <th>UPDATE_DATE</th>\n",
       "      <th>ACTIVE_STATUS</th>\n",
       "    </tr>\n",
       "  </thead>\n",
       "  <tbody>\n",
       "    <tr>\n",
       "      <th>0</th>\n",
       "      <td>110000491735</td>\n",
       "      <td>OTAQREG</td>\n",
       "      <td>OTAQREG10028835</td>\n",
       "      <td>ETHANOL FACILITY/GASOLINE AND DIESEL PRODUCERS</td>\n",
       "      <td>FEDERAL</td>\n",
       "      <td>NaN</td>\n",
       "      <td>NaN</td>\n",
       "      <td>NaN</td>\n",
       "      <td>NaN</td>\n",
       "      <td>OTAQREG</td>\n",
       "      <td>NaN</td>\n",
       "      <td>11-JUN-18</td>\n",
       "      <td>NaN</td>\n",
       "      <td>A</td>\n",
       "    </tr>\n",
       "    <tr>\n",
       "      <th>1</th>\n",
       "      <td>110000491735</td>\n",
       "      <td>NPDES</td>\n",
       "      <td>AKR06AE27</td>\n",
       "      <td>STORM WATER INDUSTRIAL</td>\n",
       "      <td>FEDERAL</td>\n",
       "      <td>01-JUL-16</td>\n",
       "      <td>ORIGINAL PERMIT ISSUE DATE</td>\n",
       "      <td>NaN</td>\n",
       "      <td>NaN</td>\n",
       "      <td>ICIS</td>\n",
       "      <td>12-AUG-20</td>\n",
       "      <td>01-MAR-19</td>\n",
       "      <td>NaN</td>\n",
       "      <td>EFFECTIVE</td>\n",
       "    </tr>\n",
       "    <tr>\n",
       "      <th>2</th>\n",
       "      <td>110000491735</td>\n",
       "      <td>OTAQREG</td>\n",
       "      <td>OTAQREG10032817</td>\n",
       "      <td>ETHANOL FACILITY/GASOLINE AND DIESEL PRODUCERS</td>\n",
       "      <td>FEDERAL</td>\n",
       "      <td>NaN</td>\n",
       "      <td>NaN</td>\n",
       "      <td>NaN</td>\n",
       "      <td>NaN</td>\n",
       "      <td>OTAQREG</td>\n",
       "      <td>NaN</td>\n",
       "      <td>11-JUN-18</td>\n",
       "      <td>NaN</td>\n",
       "      <td>A</td>\n",
       "    </tr>\n",
       "  </tbody>\n",
       "</table>\n",
       "</div>"
      ],
      "text/plain": [
       "    REGISTRY_ID PGM_SYS_ACRNM       PGM_SYS_ID  \\\n",
       "0  110000491735       OTAQREG  OTAQREG10028835   \n",
       "1  110000491735         NPDES        AKR06AE27   \n",
       "2  110000491735       OTAQREG  OTAQREG10032817   \n",
       "\n",
       "                                    INTEREST_TYPE FED_STATE_CODE START_DATE  \\\n",
       "0  ETHANOL FACILITY/GASOLINE AND DIESEL PRODUCERS        FEDERAL        NaN   \n",
       "1                          STORM WATER INDUSTRIAL        FEDERAL  01-JUL-16   \n",
       "2  ETHANOL FACILITY/GASOLINE AND DIESEL PRODUCERS        FEDERAL        NaN   \n",
       "\n",
       "         START_DATE_QUALIFIER END_DATE END_DATE_QUALIFIER SOURCE_OF_DATA  \\\n",
       "0                         NaN      NaN                NaN        OTAQREG   \n",
       "1  ORIGINAL PERMIT ISSUE DATE      NaN                NaN           ICIS   \n",
       "2                         NaN      NaN                NaN        OTAQREG   \n",
       "\n",
       "  LAST_REPORTED_DATE CREATE_DATE UPDATE_DATE ACTIVE_STATUS  \n",
       "0                NaN   11-JUN-18         NaN             A  \n",
       "1          12-AUG-20   01-MAR-19         NaN     EFFECTIVE  \n",
       "2                NaN   11-JUN-18         NaN             A  "
      ]
     },
     "execution_count": 140,
     "metadata": {},
     "output_type": "execute_result"
    }
   ],
   "source": [
    "environmental_interest.head(3)"
   ]
  },
  {
   "cell_type": "code",
   "execution_count": 141,
   "id": "e05e1556-7437-44b3-86ab-03305993a589",
   "metadata": {},
   "outputs": [
    {
     "name": "stderr",
     "output_type": "stream",
     "text": [
      "C:\\Users\\Smile2DeaTH\\anaconda3\\lib\\site-packages\\IPython\\core\\interactiveshell.py:3444: DtypeWarning: Columns (4,7,12,13,14,15,16,20,21,23,24) have mixed types.Specify dtype option on import or set low_memory=False.\n",
      "  exec(code_obj, self.user_global_ns, self.user_ns)\n"
     ]
    }
   ],
   "source": [
    "national_facility = pd.read_csv(\"EPA API\\\\downloads\\\\national_combined\\\\NATIONAL_FACILITY_FILE.CSV\")"
   ]
  },
  {
   "cell_type": "code",
   "execution_count": 142,
   "id": "a6d0a5be-fbad-42f6-890f-9b311bd75526",
   "metadata": {},
   "outputs": [
    {
     "name": "stdout",
     "output_type": "stream",
     "text": [
      "<class 'pandas.core.frame.DataFrame'>\n",
      "RangeIndex: 4524900 entries, 0 to 4524899\n",
      "Data columns (total 34 columns):\n",
      " #   Column                          Dtype  \n",
      "---  ------                          -----  \n",
      " 0   FRS_FACILITY_DETAIL_REPORT_URL  object \n",
      " 1   REGISTRY_ID                     int64  \n",
      " 2   PRIMARY_NAME                    object \n",
      " 3   LOCATION_ADDRESS                object \n",
      " 4   SUPPLEMENTAL_LOCATION           object \n",
      " 5   CITY_NAME                       object \n",
      " 6   COUNTY_NAME                     object \n",
      " 7   FIPS_CODE                       object \n",
      " 8   STATE_CODE                      object \n",
      " 9   STATE_NAME                      object \n",
      " 10  COUNTRY_NAME                    object \n",
      " 11  POSTAL_CODE                     object \n",
      " 12  FEDERAL_FACILITY_CODE           object \n",
      " 13  FEDERAL_AGENCY_NAME             object \n",
      " 14  TRIBAL_LAND_CODE                object \n",
      " 15  TRIBAL_LAND_NAME                object \n",
      " 16  CONGRESSIONAL_DIST_NUM          object \n",
      " 17  CENSUS_BLOCK_CODE               float64\n",
      " 18  HUC_CODE                        float64\n",
      " 19  EPA_REGION_CODE                 float64\n",
      " 20  SITE_TYPE_NAME                  object \n",
      " 21  LOCATION_DESCRIPTION            object \n",
      " 22  CREATE_DATE                     object \n",
      " 23  UPDATE_DATE                     object \n",
      " 24  US_MEXICO_BORDER_IND            object \n",
      " 25  PGM_SYS_ACRNMS                  object \n",
      " 26  LATITUDE83                      float64\n",
      " 27  LONGITUDE83                     float64\n",
      " 28  CONVEYOR                        object \n",
      " 29  COLLECT_DESC                    object \n",
      " 30  ACCURACY_VALUE                  float64\n",
      " 31  REF_POINT_DESC                  object \n",
      " 32  HDATUM_DESC                     object \n",
      " 33  SOURCE_DESC                     float64\n",
      "dtypes: float64(7), int64(1), object(26)\n",
      "memory usage: 1.1+ GB\n"
     ]
    }
   ],
   "source": [
    "national_facility.info()"
   ]
  },
  {
   "cell_type": "code",
   "execution_count": 143,
   "id": "29a2c611-6caa-490b-b363-a1240ed33d69",
   "metadata": {},
   "outputs": [
    {
     "data": {
      "text/html": [
       "<div>\n",
       "<style scoped>\n",
       "    .dataframe tbody tr th:only-of-type {\n",
       "        vertical-align: middle;\n",
       "    }\n",
       "\n",
       "    .dataframe tbody tr th {\n",
       "        vertical-align: top;\n",
       "    }\n",
       "\n",
       "    .dataframe thead th {\n",
       "        text-align: right;\n",
       "    }\n",
       "</style>\n",
       "<table border=\"1\" class=\"dataframe\">\n",
       "  <thead>\n",
       "    <tr style=\"text-align: right;\">\n",
       "      <th></th>\n",
       "      <th>FRS_FACILITY_DETAIL_REPORT_URL</th>\n",
       "      <th>REGISTRY_ID</th>\n",
       "      <th>PRIMARY_NAME</th>\n",
       "      <th>LOCATION_ADDRESS</th>\n",
       "      <th>SUPPLEMENTAL_LOCATION</th>\n",
       "      <th>CITY_NAME</th>\n",
       "      <th>COUNTY_NAME</th>\n",
       "      <th>FIPS_CODE</th>\n",
       "      <th>STATE_CODE</th>\n",
       "      <th>STATE_NAME</th>\n",
       "      <th>...</th>\n",
       "      <th>US_MEXICO_BORDER_IND</th>\n",
       "      <th>PGM_SYS_ACRNMS</th>\n",
       "      <th>LATITUDE83</th>\n",
       "      <th>LONGITUDE83</th>\n",
       "      <th>CONVEYOR</th>\n",
       "      <th>COLLECT_DESC</th>\n",
       "      <th>ACCURACY_VALUE</th>\n",
       "      <th>REF_POINT_DESC</th>\n",
       "      <th>HDATUM_DESC</th>\n",
       "      <th>SOURCE_DESC</th>\n",
       "    </tr>\n",
       "  </thead>\n",
       "  <tbody>\n",
       "    <tr>\n",
       "      <th>0</th>\n",
       "      <td>https://ofmpub.epa.gov/frs_public2/fii_query_d...</td>\n",
       "      <td>110000491735</td>\n",
       "      <td>OCEAN DOCK TERMINAL AND ANCHORAGE TERMINAL II</td>\n",
       "      <td>1076 OCEAN DOCK ROAD</td>\n",
       "      <td>NaN</td>\n",
       "      <td>ANCHORAGE</td>\n",
       "      <td>ANCHORAGE</td>\n",
       "      <td>02020</td>\n",
       "      <td>AK</td>\n",
       "      <td>ALASKA</td>\n",
       "      <td>...</td>\n",
       "      <td>NaN</td>\n",
       "      <td>AIR:AK0000000202000032, AIRS/AFS:0202000032, B...</td>\n",
       "      <td>61.229579</td>\n",
       "      <td>-149.893094</td>\n",
       "      <td>EPA_SLT</td>\n",
       "      <td>INTERPOLATION-PHOTO</td>\n",
       "      <td>125.0</td>\n",
       "      <td>FACILITY CENTROID</td>\n",
       "      <td>NAD83</td>\n",
       "      <td>NaN</td>\n",
       "    </tr>\n",
       "  </tbody>\n",
       "</table>\n",
       "<p>1 rows × 34 columns</p>\n",
       "</div>"
      ],
      "text/plain": [
       "                      FRS_FACILITY_DETAIL_REPORT_URL   REGISTRY_ID  \\\n",
       "0  https://ofmpub.epa.gov/frs_public2/fii_query_d...  110000491735   \n",
       "\n",
       "                                    PRIMARY_NAME      LOCATION_ADDRESS  \\\n",
       "0  OCEAN DOCK TERMINAL AND ANCHORAGE TERMINAL II  1076 OCEAN DOCK ROAD   \n",
       "\n",
       "  SUPPLEMENTAL_LOCATION  CITY_NAME COUNTY_NAME FIPS_CODE STATE_CODE  \\\n",
       "0                   NaN  ANCHORAGE   ANCHORAGE     02020         AK   \n",
       "\n",
       "  STATE_NAME  ... US_MEXICO_BORDER_IND  \\\n",
       "0     ALASKA  ...                  NaN   \n",
       "\n",
       "                                      PGM_SYS_ACRNMS LATITUDE83 LONGITUDE83  \\\n",
       "0  AIR:AK0000000202000032, AIRS/AFS:0202000032, B...  61.229579 -149.893094   \n",
       "\n",
       "  CONVEYOR         COLLECT_DESC ACCURACY_VALUE     REF_POINT_DESC  \\\n",
       "0  EPA_SLT  INTERPOLATION-PHOTO          125.0  FACILITY CENTROID   \n",
       "\n",
       "   HDATUM_DESC  SOURCE_DESC  \n",
       "0        NAD83          NaN  \n",
       "\n",
       "[1 rows x 34 columns]"
      ]
     },
     "execution_count": 143,
     "metadata": {},
     "output_type": "execute_result"
    }
   ],
   "source": [
    "national_facility.head(1)"
   ]
  },
  {
   "cell_type": "code",
   "execution_count": 148,
   "id": "4f82a33f-955a-46f2-910b-f23ffae02e30",
   "metadata": {},
   "outputs": [
    {
     "data": {
      "text/plain": [
       "29.84"
      ]
     },
     "execution_count": 148,
     "metadata": {},
     "output_type": "execute_result"
    }
   ],
   "source": [
    "# percent of NA values \n",
    "round(sum(national_facility.LATITUDE83.isna())/ len(national_facility) *100,2)"
   ]
  },
  {
   "cell_type": "markdown",
   "id": "cc42951f-4c11-41b9-a7e6-f0f7f5d92bb4",
   "metadata": {},
   "source": [
    "# Using EPA REST API"
   ]
  },
  {
   "cell_type": "code",
   "execution_count": null,
   "id": "b093406e-c936-45ec-8aa3-d6a85248f6cf",
   "metadata": {},
   "outputs": [],
   "source": []
  },
  {
   "cell_type": "code",
   "execution_count": null,
   "id": "d5d85d9b-1666-4e97-b3b8-35174d14e49c",
   "metadata": {},
   "outputs": [],
   "source": []
  },
  {
   "cell_type": "code",
   "execution_count": null,
   "id": "0ef5ffbd-95dc-4ba3-9adc-31dfb600b5a1",
   "metadata": {},
   "outputs": [],
   "source": []
  },
  {
   "cell_type": "code",
   "execution_count": null,
   "id": "12f2773c-a2c5-41b0-a346-bf835de04930",
   "metadata": {},
   "outputs": [],
   "source": []
  },
  {
   "cell_type": "markdown",
   "id": "9c584ed7-65b9-4f5b-9dd1-5e6b396d4a76",
   "metadata": {},
   "source": [
    "# FEMA API"
   ]
  },
  {
   "cell_type": "code",
   "execution_count": 5,
   "id": "cc63d663-33a4-42fa-b873-e1e5c19424f3",
   "metadata": {},
   "outputs": [],
   "source": [
    "import json"
   ]
  },
  {
   "cell_type": "code",
   "execution_count": 6,
   "id": "2ac93383-6309-4d9d-b087-9620077876d9",
   "metadata": {},
   "outputs": [],
   "source": [
    "f = open('FEMA API\\\\DisasterDeclarationsSummaries.json')\n",
    " \n",
    "# returns JSON object as\n",
    "# a dictionary\n",
    "data = json.load(f)\n",
    "\n",
    "# Iterating through the json\n",
    "# list\n",
    "data_list = []\n",
    "for i in data['DisasterDeclarationsSummaries']:\n",
    "    data_list.append(i)\n",
    "\n",
    "data_2 = pd.DataFrame(data_list)"
   ]
  },
  {
   "cell_type": "code",
   "execution_count": 7,
   "id": "3d05f539-f709-468f-a748-d0b87ccf74ab",
   "metadata": {},
   "outputs": [
    {
     "name": "stdout",
     "output_type": "stream",
     "text": [
      "<class 'pandas.core.frame.DataFrame'>\n",
      "RangeIndex: 1000 entries, 0 to 999\n",
      "Data columns (total 19 columns):\n",
      " #   Column                Non-Null Count  Dtype \n",
      "---  ------                --------------  ----- \n",
      " 0   disasterNumber        1000 non-null   object\n",
      " 1   ihProgramDeclared     1000 non-null   bool  \n",
      " 2   iaProgramDeclared     1000 non-null   bool  \n",
      " 3   paProgramDeclared     1000 non-null   bool  \n",
      " 4   hmProgramDeclared     1000 non-null   bool  \n",
      " 5   state                 1000 non-null   object\n",
      " 6   declarationDate       1000 non-null   object\n",
      " 7   fyDeclared            1000 non-null   int64 \n",
      " 8   disasterType          1000 non-null   object\n",
      " 9   incidentType          1000 non-null   object\n",
      " 10  title                 1000 non-null   object\n",
      " 11  incidentBeginDate     1000 non-null   object\n",
      " 12  incidentEndDate       1000 non-null   object\n",
      " 13  disasterCloseOutDate  1000 non-null   object\n",
      " 14  declaredCountyArea    1000 non-null   object\n",
      " 15  placeCode             1000 non-null   object\n",
      " 16  hash                  1000 non-null   object\n",
      " 17  lastRefresh           1000 non-null   object\n",
      " 18  id                    1000 non-null   object\n",
      "dtypes: bool(4), int64(1), object(14)\n",
      "memory usage: 121.2+ KB\n"
     ]
    }
   ],
   "source": [
    "data_2.info()"
   ]
  },
  {
   "cell_type": "code",
   "execution_count": 9,
   "id": "b7ac974c-6608-4590-9aaa-602e2d2d5e7b",
   "metadata": {},
   "outputs": [
    {
     "data": {
      "text/plain": [
       "Flood               648\n",
       "Tornado             165\n",
       "Hurricane            84\n",
       "Drought              54\n",
       "Severe Storm(s)      13\n",
       "Typhoon              10\n",
       "Earthquake            9\n",
       "Other                 8\n",
       "Fire                  4\n",
       "Toxic Substances      2\n",
       "Volcano               1\n",
       "Dam/Levee Break       1\n",
       "Snow                  1\n",
       "Name: incidentType, dtype: int64"
      ]
     },
     "execution_count": 9,
     "metadata": {},
     "output_type": "execute_result"
    }
   ],
   "source": [
    "data_2['incidentType'].value_counts()"
   ]
  },
  {
   "cell_type": "code",
   "execution_count": 297,
   "id": "d67d5b18-904f-4dc3-af48-374d3d6a8f20",
   "metadata": {},
   "outputs": [],
   "source": [
    "with open('FEMA API\\\\DisasterDeclarationsSummaries.json', 'r') as openfile:\n",
    "  \n",
    "    # Reading from json file\n",
    "    json_object = json.load(openfile)"
   ]
  },
  {
   "cell_type": "code",
   "execution_count": 430,
   "id": "ecb24821-b8d0-4144-877b-5490b808cc1e",
   "metadata": {},
   "outputs": [],
   "source": [
    "#json_object"
   ]
  },
  {
   "cell_type": "code",
   "execution_count": 10,
   "id": "8afd5276-af9f-4b54-b4fa-074cd492b747",
   "metadata": {},
   "outputs": [
    {
     "data": {
      "text/plain": [
       "'D:\\\\ALL_data_science\\\\Freelancing\\\\UPwork\\\\Super Software'"
      ]
     },
     "execution_count": 10,
     "metadata": {},
     "output_type": "execute_result"
    }
   ],
   "source": [
    "%pwd"
   ]
  },
  {
   "cell_type": "code",
   "execution_count": 30,
   "id": "79ea9442-5bfd-4068-a942-34fac5e3cd8a",
   "metadata": {},
   "outputs": [
    {
     "ename": "UnicodeDecodeError",
     "evalue": "'utf-8' codec can't decode byte 0xbf in position 14314: invalid start byte",
     "output_type": "error",
     "traceback": [
      "\u001b[1;31m---------------------------------------------------------------------------\u001b[0m",
      "\u001b[1;31mUnicodeDecodeError\u001b[0m                        Traceback (most recent call last)",
      "\u001b[1;32mC:\\Users\\SMILE2~1\\AppData\\Local\\Temp/ipykernel_12844/2833651365.py\u001b[0m in \u001b[0;36m<module>\u001b[1;34m\u001b[0m\n\u001b[1;32m----> 1\u001b[1;33m \u001b[0mdf\u001b[0m \u001b[1;33m=\u001b[0m \u001b[0mpd\u001b[0m\u001b[1;33m.\u001b[0m\u001b[0mread_csv\u001b[0m\u001b[1;33m(\u001b[0m\u001b[1;34m'FEMA API/usfa_nfirs_2019_hazmat/USFA NFIRS 2019 Hazmat/NFIRS_FIRES_2019_011921/incidentaddress.txt'\u001b[0m\u001b[1;33m,\u001b[0m \u001b[0mdelimiter\u001b[0m \u001b[1;33m=\u001b[0m \u001b[1;34m\"^\"\u001b[0m\u001b[1;33m,\u001b[0m\u001b[0mencoding\u001b[0m\u001b[1;33m=\u001b[0m\u001b[1;34m'utf-8'\u001b[0m\u001b[1;33m)\u001b[0m\u001b[1;33m.\u001b[0m\u001b[0mstrip\u001b[0m\u001b[1;33m(\u001b[0m\u001b[1;33m)\u001b[0m\u001b[1;33m\u001b[0m\u001b[1;33m\u001b[0m\u001b[0m\n\u001b[0m",
      "\u001b[1;32m~\\anaconda3\\lib\\site-packages\\pandas\\util\\_decorators.py\u001b[0m in \u001b[0;36mwrapper\u001b[1;34m(*args, **kwargs)\u001b[0m\n\u001b[0;32m    309\u001b[0m                     \u001b[0mstacklevel\u001b[0m\u001b[1;33m=\u001b[0m\u001b[0mstacklevel\u001b[0m\u001b[1;33m,\u001b[0m\u001b[1;33m\u001b[0m\u001b[1;33m\u001b[0m\u001b[0m\n\u001b[0;32m    310\u001b[0m                 )\n\u001b[1;32m--> 311\u001b[1;33m             \u001b[1;32mreturn\u001b[0m \u001b[0mfunc\u001b[0m\u001b[1;33m(\u001b[0m\u001b[1;33m*\u001b[0m\u001b[0margs\u001b[0m\u001b[1;33m,\u001b[0m \u001b[1;33m**\u001b[0m\u001b[0mkwargs\u001b[0m\u001b[1;33m)\u001b[0m\u001b[1;33m\u001b[0m\u001b[1;33m\u001b[0m\u001b[0m\n\u001b[0m\u001b[0;32m    312\u001b[0m \u001b[1;33m\u001b[0m\u001b[0m\n\u001b[0;32m    313\u001b[0m         \u001b[1;32mreturn\u001b[0m \u001b[0mwrapper\u001b[0m\u001b[1;33m\u001b[0m\u001b[1;33m\u001b[0m\u001b[0m\n",
      "\u001b[1;32m~\\anaconda3\\lib\\site-packages\\pandas\\io\\parsers\\readers.py\u001b[0m in \u001b[0;36mread_csv\u001b[1;34m(filepath_or_buffer, sep, delimiter, header, names, index_col, usecols, squeeze, prefix, mangle_dupe_cols, dtype, engine, converters, true_values, false_values, skipinitialspace, skiprows, skipfooter, nrows, na_values, keep_default_na, na_filter, verbose, skip_blank_lines, parse_dates, infer_datetime_format, keep_date_col, date_parser, dayfirst, cache_dates, iterator, chunksize, compression, thousands, decimal, lineterminator, quotechar, quoting, doublequote, escapechar, comment, encoding, encoding_errors, dialect, error_bad_lines, warn_bad_lines, on_bad_lines, delim_whitespace, low_memory, memory_map, float_precision, storage_options)\u001b[0m\n\u001b[0;32m    584\u001b[0m     \u001b[0mkwds\u001b[0m\u001b[1;33m.\u001b[0m\u001b[0mupdate\u001b[0m\u001b[1;33m(\u001b[0m\u001b[0mkwds_defaults\u001b[0m\u001b[1;33m)\u001b[0m\u001b[1;33m\u001b[0m\u001b[1;33m\u001b[0m\u001b[0m\n\u001b[0;32m    585\u001b[0m \u001b[1;33m\u001b[0m\u001b[0m\n\u001b[1;32m--> 586\u001b[1;33m     \u001b[1;32mreturn\u001b[0m \u001b[0m_read\u001b[0m\u001b[1;33m(\u001b[0m\u001b[0mfilepath_or_buffer\u001b[0m\u001b[1;33m,\u001b[0m \u001b[0mkwds\u001b[0m\u001b[1;33m)\u001b[0m\u001b[1;33m\u001b[0m\u001b[1;33m\u001b[0m\u001b[0m\n\u001b[0m\u001b[0;32m    587\u001b[0m \u001b[1;33m\u001b[0m\u001b[0m\n\u001b[0;32m    588\u001b[0m \u001b[1;33m\u001b[0m\u001b[0m\n",
      "\u001b[1;32m~\\anaconda3\\lib\\site-packages\\pandas\\io\\parsers\\readers.py\u001b[0m in \u001b[0;36m_read\u001b[1;34m(filepath_or_buffer, kwds)\u001b[0m\n\u001b[0;32m    486\u001b[0m \u001b[1;33m\u001b[0m\u001b[0m\n\u001b[0;32m    487\u001b[0m     \u001b[1;32mwith\u001b[0m \u001b[0mparser\u001b[0m\u001b[1;33m:\u001b[0m\u001b[1;33m\u001b[0m\u001b[1;33m\u001b[0m\u001b[0m\n\u001b[1;32m--> 488\u001b[1;33m         \u001b[1;32mreturn\u001b[0m \u001b[0mparser\u001b[0m\u001b[1;33m.\u001b[0m\u001b[0mread\u001b[0m\u001b[1;33m(\u001b[0m\u001b[0mnrows\u001b[0m\u001b[1;33m)\u001b[0m\u001b[1;33m\u001b[0m\u001b[1;33m\u001b[0m\u001b[0m\n\u001b[0m\u001b[0;32m    489\u001b[0m \u001b[1;33m\u001b[0m\u001b[0m\n\u001b[0;32m    490\u001b[0m \u001b[1;33m\u001b[0m\u001b[0m\n",
      "\u001b[1;32m~\\anaconda3\\lib\\site-packages\\pandas\\io\\parsers\\readers.py\u001b[0m in \u001b[0;36mread\u001b[1;34m(self, nrows)\u001b[0m\n\u001b[0;32m   1045\u001b[0m     \u001b[1;32mdef\u001b[0m \u001b[0mread\u001b[0m\u001b[1;33m(\u001b[0m\u001b[0mself\u001b[0m\u001b[1;33m,\u001b[0m \u001b[0mnrows\u001b[0m\u001b[1;33m=\u001b[0m\u001b[1;32mNone\u001b[0m\u001b[1;33m)\u001b[0m\u001b[1;33m:\u001b[0m\u001b[1;33m\u001b[0m\u001b[1;33m\u001b[0m\u001b[0m\n\u001b[0;32m   1046\u001b[0m         \u001b[0mnrows\u001b[0m \u001b[1;33m=\u001b[0m \u001b[0mvalidate_integer\u001b[0m\u001b[1;33m(\u001b[0m\u001b[1;34m\"nrows\"\u001b[0m\u001b[1;33m,\u001b[0m \u001b[0mnrows\u001b[0m\u001b[1;33m)\u001b[0m\u001b[1;33m\u001b[0m\u001b[1;33m\u001b[0m\u001b[0m\n\u001b[1;32m-> 1047\u001b[1;33m         \u001b[0mindex\u001b[0m\u001b[1;33m,\u001b[0m \u001b[0mcolumns\u001b[0m\u001b[1;33m,\u001b[0m \u001b[0mcol_dict\u001b[0m \u001b[1;33m=\u001b[0m \u001b[0mself\u001b[0m\u001b[1;33m.\u001b[0m\u001b[0m_engine\u001b[0m\u001b[1;33m.\u001b[0m\u001b[0mread\u001b[0m\u001b[1;33m(\u001b[0m\u001b[0mnrows\u001b[0m\u001b[1;33m)\u001b[0m\u001b[1;33m\u001b[0m\u001b[1;33m\u001b[0m\u001b[0m\n\u001b[0m\u001b[0;32m   1048\u001b[0m \u001b[1;33m\u001b[0m\u001b[0m\n\u001b[0;32m   1049\u001b[0m         \u001b[1;32mif\u001b[0m \u001b[0mindex\u001b[0m \u001b[1;32mis\u001b[0m \u001b[1;32mNone\u001b[0m\u001b[1;33m:\u001b[0m\u001b[1;33m\u001b[0m\u001b[1;33m\u001b[0m\u001b[0m\n",
      "\u001b[1;32m~\\anaconda3\\lib\\site-packages\\pandas\\io\\parsers\\c_parser_wrapper.py\u001b[0m in \u001b[0;36mread\u001b[1;34m(self, nrows)\u001b[0m\n\u001b[0;32m    221\u001b[0m         \u001b[1;32mtry\u001b[0m\u001b[1;33m:\u001b[0m\u001b[1;33m\u001b[0m\u001b[1;33m\u001b[0m\u001b[0m\n\u001b[0;32m    222\u001b[0m             \u001b[1;32mif\u001b[0m \u001b[0mself\u001b[0m\u001b[1;33m.\u001b[0m\u001b[0mlow_memory\u001b[0m\u001b[1;33m:\u001b[0m\u001b[1;33m\u001b[0m\u001b[1;33m\u001b[0m\u001b[0m\n\u001b[1;32m--> 223\u001b[1;33m                 \u001b[0mchunks\u001b[0m \u001b[1;33m=\u001b[0m \u001b[0mself\u001b[0m\u001b[1;33m.\u001b[0m\u001b[0m_reader\u001b[0m\u001b[1;33m.\u001b[0m\u001b[0mread_low_memory\u001b[0m\u001b[1;33m(\u001b[0m\u001b[0mnrows\u001b[0m\u001b[1;33m)\u001b[0m\u001b[1;33m\u001b[0m\u001b[1;33m\u001b[0m\u001b[0m\n\u001b[0m\u001b[0;32m    224\u001b[0m                 \u001b[1;31m# destructive to chunks\u001b[0m\u001b[1;33m\u001b[0m\u001b[1;33m\u001b[0m\u001b[0m\n\u001b[0;32m    225\u001b[0m                 \u001b[0mdata\u001b[0m \u001b[1;33m=\u001b[0m \u001b[0m_concatenate_chunks\u001b[0m\u001b[1;33m(\u001b[0m\u001b[0mchunks\u001b[0m\u001b[1;33m)\u001b[0m\u001b[1;33m\u001b[0m\u001b[1;33m\u001b[0m\u001b[0m\n",
      "\u001b[1;32m~\\anaconda3\\lib\\site-packages\\pandas\\_libs\\parsers.pyx\u001b[0m in \u001b[0;36mpandas._libs.parsers.TextReader.read_low_memory\u001b[1;34m()\u001b[0m\n",
      "\u001b[1;32m~\\anaconda3\\lib\\site-packages\\pandas\\_libs\\parsers.pyx\u001b[0m in \u001b[0;36mpandas._libs.parsers.TextReader._read_rows\u001b[1;34m()\u001b[0m\n",
      "\u001b[1;32m~\\anaconda3\\lib\\site-packages\\pandas\\_libs\\parsers.pyx\u001b[0m in \u001b[0;36mpandas._libs.parsers.TextReader._tokenize_rows\u001b[1;34m()\u001b[0m\n",
      "\u001b[1;32m~\\anaconda3\\lib\\site-packages\\pandas\\_libs\\parsers.pyx\u001b[0m in \u001b[0;36mpandas._libs.parsers.raise_parser_error\u001b[1;34m()\u001b[0m\n",
      "\u001b[1;31mUnicodeDecodeError\u001b[0m: 'utf-8' codec can't decode byte 0xbf in position 14314: invalid start byte"
     ]
    }
   ],
   "source": [
    "df = pd.read_csv('FEMA API/usfa_nfirs_2019_hazmat/USFA NFIRS 2019 Hazmat/NFIRS_FIRES_2019_011921/incidentaddress.txt', delimiter = \"^\",encoding='utf-8').strip()"
   ]
  },
  {
   "cell_type": "code",
   "execution_count": 28,
   "id": "0d5d5dcc-8ed6-4157-8295-171ece1097b6",
   "metadata": {},
   "outputs": [
    {
     "data": {
      "text/plain": [
       "['INCIDENT_KEY',\n",
       " 'STATE',\n",
       " 'FDID',\n",
       " 'INC_DATE',\n",
       " 'INC_NO',\n",
       " 'EXP_NO',\n",
       " 'AGENCY_NAM',\n",
       " 'VERSION',\n",
       " 'AG_ST_NUM',\n",
       " 'AG_ST_PREF',\n",
       " 'AG_STREET',\n",
       " 'AG_ST_TYPE',\n",
       " 'AG_ST_SUFF',\n",
       " 'AG_APT_NO',\n",
       " 'AG_CITY',\n",
       " 'AG_STATE',\n",
       " 'AG_ZIP5',\n",
       " 'AG_ZIP4',\n",
       " 'AG_PHONE',\n",
       " 'AG_CASE_NO',\n",
       " 'AG_ORI',\n",
       " 'AG_FID',\n",
       " 'AG_FDID']"
      ]
     },
     "execution_count": 28,
     "metadata": {},
     "output_type": "execute_result"
    }
   ],
   "source": [
    "list(df.columns)"
   ]
  },
  {
   "cell_type": "code",
   "execution_count": null,
   "id": "19f0ea9d-34aa-4157-8823-2916a0ca36e1",
   "metadata": {},
   "outputs": [],
   "source": []
  }
 ],
 "metadata": {
  "kernelspec": {
   "display_name": "Python 3 (ipykernel)",
   "language": "python",
   "name": "python3"
  },
  "language_info": {
   "codemirror_mode": {
    "name": "ipython",
    "version": 3
   },
   "file_extension": ".py",
   "mimetype": "text/x-python",
   "name": "python",
   "nbconvert_exporter": "python",
   "pygments_lexer": "ipython3",
   "version": "3.9.7"
  }
 },
 "nbformat": 4,
 "nbformat_minor": 5
}
